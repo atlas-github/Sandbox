{
  "nbformat": 4,
  "nbformat_minor": 0,
  "metadata": {
    "colab": {
      "name": "Text Mining with R Chapter 6 Topic modelling.ipynb",
      "version": "0.3.2",
      "provenance": [],
      "include_colab_link": true
    },
    "language_info": {
      "codemirror_mode": "r",
      "file_extension": ".r",
      "mimetype": "text/x-r-source",
      "name": "R",
      "pygments_lexer": "r",
      "version": "3.3.1"
    },
    "kernelspec": {
      "display_name": "R",
      "language": "R",
      "name": "ir"
    },
    "accelerator": "TPU"
  },
  "cells": [
    {
      "cell_type": "markdown",
      "metadata": {
        "id": "view-in-github",
        "colab_type": "text"
      },
      "source": [
        "<a href=\"https://colab.research.google.com/github/atlas-github/Sandbox/blob/master/Text_Mining_with_R_Chapter_6_Topic_modelling.ipynb\" target=\"_parent\"><img src=\"https://colab.research.google.com/assets/colab-badge.svg\" alt=\"Open In Colab\"/></a>"
      ]
    },
    {
      "cell_type": "markdown",
      "metadata": {
        "id": "QxXKWrPWtyPf",
        "colab_type": "text"
      },
      "source": [
        "Source: [Text Mining with R Chapter 6 Topic Modelling](https://www.tidytextmining.com/topicmodeling.html)"
      ]
    },
    {
      "cell_type": "code",
      "metadata": {
        "id": "fDb8Crfbt3ag",
        "colab_type": "code",
        "colab": {
          "base_uri": "https://localhost:8080/",
          "height": 119
        },
        "outputId": "2be3da1e-f492-41a8-c982-7fde7ac04327"
      },
      "source": [
        "install.packages(\"tm\")\n",
        "install.packages(\"lda\")\n",
        "library(tm)\n",
        "\n",
        "data(\"AssociatedPress\")"
      ],
      "execution_count": 13,
      "outputs": [
        {
          "output_type": "stream",
          "text": [
            "Installing package into ‘/usr/local/lib/R/site-library’\n",
            "(as ‘lib’ is unspecified)\n",
            "Installing package into ‘/usr/local/lib/R/site-library’\n",
            "(as ‘lib’ is unspecified)\n",
            "Warning message in data(\"AssociatedPress\"):\n",
            "“data set ‘AssociatedPress’ not found”"
          ],
          "name": "stderr"
        }
      ]
    },
    {
      "cell_type": "code",
      "metadata": {
        "id": "DfiZVjjfuusF",
        "colab_type": "code",
        "colab": {
          "base_uri": "https://localhost:8080/",
          "height": 96
        },
        "outputId": "7f05b1cd-4003-46a0-af64-a6d000cbf336"
      },
      "source": [
        "# set a seed so that the output of the model is predictable\n",
        "ap_lda <- LDA(AssociatedPress, k = 2, control = list(seed = 1234))\n",
        "ap_lda"
      ],
      "execution_count": 14,
      "outputs": [
        {
          "output_type": "error",
          "ename": "ERROR",
          "evalue": "ignored",
          "traceback": [
            "Error in LDA(AssociatedPress, k = 2, control = list(seed = 1234)): could not find function \"LDA\"\nTraceback:\n"
          ]
        }
      ]
    },
    {
      "cell_type": "code",
      "metadata": {
        "id": "Z5t-Qk1bvzWq",
        "colab_type": "code",
        "colab": {
          "base_uri": "https://localhost:8080/",
          "height": 130
        },
        "outputId": "5f01d661-da8d-4da8-fd09-24655cae04fd"
      },
      "source": [
        "library(tidytext)\n",
        "\n",
        "ap_topics <- tidy(ap_lda, matrix = \"beta\")\n",
        "ap_topics"
      ],
      "execution_count": 15,
      "outputs": [
        {
          "output_type": "error",
          "ename": "ERROR",
          "evalue": "ignored",
          "traceback": [
            "Error in tidy(ap_lda, matrix = \"beta\"): object 'ap_lda' not found\nTraceback:\n",
            "1. tidy(ap_lda, matrix = \"beta\")"
          ]
        }
      ]
    },
    {
      "cell_type": "code",
      "metadata": {
        "id": "xHIFxMLtv0oi",
        "colab_type": "code",
        "colab": {}
      },
      "source": [
        "library(ggplot2)\n",
        "library(dplyr)\n",
        "\n",
        "ap_top_terms <- ap_topics %>%\n",
        "  group_by(topic) %>%\n",
        "  top_n(10, beta) %>%\n",
        "  ungroup() %>%\n",
        "  arrange(topic, -beta)\n",
        "\n",
        "ap_top_terms %>%\n",
        "  mutate(term = reorder(term, beta)) %>%\n",
        "  ggplot(aes(term, beta, fill = factor(topic))) +\n",
        "  geom_col(show.legend = FALSE) +\n",
        "  facet_wrap(~ topic, scales = \"free\") +\n",
        "  coord_flip()"
      ],
      "execution_count": 0,
      "outputs": []
    },
    {
      "cell_type": "code",
      "metadata": {
        "id": "BTRcyYNzv9mk",
        "colab_type": "code",
        "colab": {
          "base_uri": "https://localhost:8080/",
          "height": 181
        },
        "outputId": "fe9af30d-c01e-4787-84ed-8de57dbb200e"
      },
      "source": [
        "library(tidyr)\n",
        "\n",
        "beta_spread <- ap_topics %>%\n",
        "  mutate(topic = paste0(\"topic\", topic)) %>%\n",
        "  spread(topic, beta) %>%\n",
        "  filter(topic1 > .001 | topic2 > .001) %>%\n",
        "  mutate(log_ratio = log2(topic2 / topic1))\n",
        "\n",
        "beta_spread"
      ],
      "execution_count": 16,
      "outputs": [
        {
          "output_type": "error",
          "ename": "ERROR",
          "evalue": "ignored",
          "traceback": [
            "Error in eval(lhs, parent, parent): object 'ap_topics' not found\nTraceback:\n",
            "1. ap_topics %>% mutate(topic = paste0(\"topic\", topic)) %>% spread(topic, \n .     beta) %>% filter(topic1 > 0.001 | topic2 > 0.001) %>% mutate(log_ratio = log2(topic2/topic1))",
            "2. eval(lhs, parent, parent)",
            "3. eval(lhs, parent, parent)"
          ]
        }
      ]
    },
    {
      "cell_type": "code",
      "metadata": {
        "id": "MY2zxowZw9C-",
        "colab_type": "code",
        "colab": {
          "base_uri": "https://localhost:8080/",
          "height": 130
        },
        "outputId": "0ea846e7-df49-46a0-c94b-efc37de93b93"
      },
      "source": [
        "ap_documents <- tidy(ap_lda, matrix = \"gamma\")\n",
        "ap_documents"
      ],
      "execution_count": 17,
      "outputs": [
        {
          "output_type": "error",
          "ename": "ERROR",
          "evalue": "ignored",
          "traceback": [
            "Error in tidy(ap_lda, matrix = \"gamma\"): object 'ap_lda' not found\nTraceback:\n",
            "1. tidy(ap_lda, matrix = \"gamma\")"
          ]
        }
      ]
    },
    {
      "cell_type": "code",
      "metadata": {
        "id": "1GPZBRC-w_P1",
        "colab_type": "code",
        "colab": {
          "base_uri": "https://localhost:8080/",
          "height": 181
        },
        "outputId": "91698200-d5f9-49ef-f910-b14801f06fee"
      },
      "source": [
        "tidy(AssociatedPress) %>%\n",
        "  filter(document == 6) %>%\n",
        "  arrange(desc(count))"
      ],
      "execution_count": 18,
      "outputs": [
        {
          "output_type": "error",
          "ename": "ERROR",
          "evalue": "ignored",
          "traceback": [
            "Error in tidy(AssociatedPress): object 'AssociatedPress' not found\nTraceback:\n",
            "1. tidy(AssociatedPress) %>% filter(document == 6) %>% arrange(desc(count))",
            "2. eval(lhs, parent, parent)",
            "3. eval(lhs, parent, parent)",
            "4. tidy(AssociatedPress)"
          ]
        }
      ]
    },
    {
      "cell_type": "code",
      "metadata": {
        "id": "ho12pXX5xB4C",
        "colab_type": "code",
        "colab": {}
      },
      "source": [
        "titles <- c(\"Twenty Thousand Leagues under the Sea\", \"The War of the Worlds\",\n",
        "            \"Pride and Prejudice\", \"Great Expectations\")"
      ],
      "execution_count": 0,
      "outputs": []
    },
    {
      "cell_type": "code",
      "metadata": {
        "id": "AObKjph_xDzJ",
        "colab_type": "code",
        "colab": {
          "base_uri": "https://localhost:8080/",
          "height": 51
        },
        "outputId": "21feedc5-b0b2-4e0d-92d0-49bc55c0cbea"
      },
      "source": [
        "library(gutenbergr)\n",
        "\n",
        "books <- gutenberg_works(title %in% titles) %>%\n",
        "  gutenberg_download(meta_fields = \"title\")"
      ],
      "execution_count": 20,
      "outputs": [
        {
          "output_type": "stream",
          "text": [
            "Determining mirror for Project Gutenberg from http://www.gutenberg.org/robot/harvest\n",
            "Using mirror http://aleph.gutenberg.org\n"
          ],
          "name": "stderr"
        }
      ]
    },
    {
      "cell_type": "code",
      "metadata": {
        "id": "cw-d3QW-xFri",
        "colab_type": "code",
        "colab": {
          "base_uri": "https://localhost:8080/",
          "height": 266
        },
        "outputId": "3e63b1f1-1223-4859-83ca-bfcf115e1e7a"
      },
      "source": [
        "library(stringr)\n",
        "\n",
        "# divide into documents, each representing one chapter\n",
        "by_chapter <- books %>%\n",
        "  group_by(title) %>%\n",
        "  mutate(chapter = cumsum(str_detect(text, regex(\"^chapter \", ignore_case = TRUE)))) %>%\n",
        "  ungroup() %>%\n",
        "  filter(chapter > 0) %>%\n",
        "  unite(document, title, chapter)\n",
        "\n",
        "# split into words\n",
        "by_chapter_word <- by_chapter %>%\n",
        "  unnest_tokens(word, text)\n",
        "\n",
        "# find document-word counts\n",
        "word_counts <- by_chapter_word %>%\n",
        "  anti_join(stop_words) %>%\n",
        "  count(document, word, sort = TRUE) %>%\n",
        "  ungroup()\n",
        "\n",
        "word_counts"
      ],
      "execution_count": 21,
      "outputs": [
        {
          "output_type": "error",
          "ename": "ERROR",
          "evalue": "ignored",
          "traceback": [
            "Error in group_by(., title): could not find function \"group_by\"\nTraceback:\n",
            "1. books %>% group_by(title) %>% mutate(chapter = cumsum(str_detect(text, \n .     regex(\"^chapter \", ignore_case = TRUE)))) %>% ungroup() %>% \n .     filter(chapter > 0) %>% unite(document, title, chapter)",
            "2. withVisible(eval(quote(`_fseq`(`_lhs`)), env, env))",
            "3. eval(quote(`_fseq`(`_lhs`)), env, env)",
            "4. eval(quote(`_fseq`(`_lhs`)), env, env)",
            "5. `_fseq`(`_lhs`)",
            "6. freduce(value, `_function_list`)",
            "7. function_list[[i]](value)"
          ]
        }
      ]
    },
    {
      "cell_type": "code",
      "metadata": {
        "id": "90NHnbcqxIhp",
        "colab_type": "code",
        "colab": {
          "base_uri": "https://localhost:8080/",
          "height": 164
        },
        "outputId": "82b25d3f-7dff-4b52-cc42-d24dd336b333"
      },
      "source": [
        "chapters_dtm <- word_counts %>%\n",
        "  cast_dtm(document, word, n)\n",
        "\n",
        "chapters_dtm"
      ],
      "execution_count": 22,
      "outputs": [
        {
          "output_type": "error",
          "ename": "ERROR",
          "evalue": "ignored",
          "traceback": [
            "Error in eval(lhs, parent, parent): object 'word_counts' not found\nTraceback:\n",
            "1. word_counts %>% cast_dtm(document, word, n)",
            "2. eval(lhs, parent, parent)",
            "3. eval(lhs, parent, parent)"
          ]
        }
      ]
    },
    {
      "cell_type": "code",
      "metadata": {
        "id": "a3Ldd3rWxLCS",
        "colab_type": "code",
        "colab": {
          "base_uri": "https://localhost:8080/",
          "height": 96
        },
        "outputId": "c845f7ce-999f-48b2-bba0-0bdcc05944d8"
      },
      "source": [
        "chapters_lda <- LDA(chapters_dtm, k = 4, control = list(seed = 1234))\n",
        "chapters_lda"
      ],
      "execution_count": 23,
      "outputs": [
        {
          "output_type": "error",
          "ename": "ERROR",
          "evalue": "ignored",
          "traceback": [
            "Error in LDA(chapters_dtm, k = 4, control = list(seed = 1234)): could not find function \"LDA\"\nTraceback:\n"
          ]
        }
      ]
    },
    {
      "cell_type": "code",
      "metadata": {
        "id": "MIHHAcYVxPgc",
        "colab_type": "code",
        "colab": {
          "base_uri": "https://localhost:8080/",
          "height": 130
        },
        "outputId": "411b96d0-03c0-4d70-b744-e812ef0d65b1"
      },
      "source": [
        "chapter_topics <- tidy(chapters_lda, matrix = \"beta\")\n",
        "chapter_topics"
      ],
      "execution_count": 24,
      "outputs": [
        {
          "output_type": "error",
          "ename": "ERROR",
          "evalue": "ignored",
          "traceback": [
            "Error in tidy(chapters_lda, matrix = \"beta\"): object 'chapters_lda' not found\nTraceback:\n",
            "1. tidy(chapters_lda, matrix = \"beta\")"
          ]
        }
      ]
    },
    {
      "cell_type": "code",
      "metadata": {
        "id": "2VqeFN_mxRCV",
        "colab_type": "code",
        "colab": {
          "base_uri": "https://localhost:8080/",
          "height": 181
        },
        "outputId": "42853600-a752-4345-eda4-18e408510776"
      },
      "source": [
        "top_terms <- chapter_topics %>%\n",
        "  group_by(topic) %>%\n",
        "  top_n(5, beta) %>%\n",
        "  ungroup() %>%\n",
        "  arrange(topic, -beta)\n",
        "\n",
        "top_terms"
      ],
      "execution_count": 25,
      "outputs": [
        {
          "output_type": "error",
          "ename": "ERROR",
          "evalue": "ignored",
          "traceback": [
            "Error in eval(lhs, parent, parent): object 'chapter_topics' not found\nTraceback:\n",
            "1. chapter_topics %>% group_by(topic) %>% top_n(5, beta) %>% ungroup() %>% \n .     arrange(topic, -beta)",
            "2. eval(lhs, parent, parent)",
            "3. eval(lhs, parent, parent)"
          ]
        }
      ]
    },
    {
      "cell_type": "code",
      "metadata": {
        "id": "p_JPUyhpxSai",
        "colab_type": "code",
        "colab": {
          "base_uri": "https://localhost:8080/",
          "height": 300
        },
        "outputId": "ef23d3e0-6dec-4d31-d10f-23d37f6c73ec"
      },
      "source": [
        "library(ggplot2)\n",
        "\n",
        "top_terms %>%\n",
        "  mutate(term = reorder(term, beta)) %>%\n",
        "  ggplot(aes(term, beta, fill = factor(topic))) +\n",
        "  geom_col(show.legend = FALSE) +\n",
        "  facet_wrap(~ topic, scales = \"free\") +\n",
        "  coord_flip()"
      ],
      "execution_count": 26,
      "outputs": [
        {
          "output_type": "stream",
          "text": [
            "\n",
            "Attaching package: ‘ggplot2’\n",
            "\n",
            "The following object is masked from ‘package:NLP’:\n",
            "\n",
            "    annotate\n",
            "\n"
          ],
          "name": "stderr"
        },
        {
          "output_type": "error",
          "ename": "ERROR",
          "evalue": "ignored",
          "traceback": [
            "Error in eval(lhs, parent, parent): object 'top_terms' not found\nTraceback:\n",
            "1. top_terms %>% mutate(term = reorder(term, beta)) %>% ggplot(aes(term, \n .     beta, fill = factor(topic)))",
            "2. eval(lhs, parent, parent)",
            "3. eval(lhs, parent, parent)"
          ]
        }
      ]
    },
    {
      "cell_type": "code",
      "metadata": {
        "id": "oin7JFwGxTsf",
        "colab_type": "code",
        "colab": {
          "base_uri": "https://localhost:8080/",
          "height": 130
        },
        "outputId": "069e88a7-b631-49bc-b1da-4874a8154340"
      },
      "source": [
        "chapters_gamma <- tidy(chapters_lda, matrix = \"gamma\")\n",
        "chapters_gamma"
      ],
      "execution_count": 27,
      "outputs": [
        {
          "output_type": "error",
          "ename": "ERROR",
          "evalue": "ignored",
          "traceback": [
            "Error in tidy(chapters_lda, matrix = \"gamma\"): object 'chapters_lda' not found\nTraceback:\n",
            "1. tidy(chapters_lda, matrix = \"gamma\")"
          ]
        }
      ]
    },
    {
      "cell_type": "code",
      "metadata": {
        "id": "FQ_59aPbxVT9",
        "colab_type": "code",
        "colab": {
          "base_uri": "https://localhost:8080/",
          "height": 181
        },
        "outputId": "de5eaa50-f240-4ff4-eb53-c0e8d90b011d"
      },
      "source": [
        "chapters_gamma <- chapters_gamma %>%\n",
        "  separate(document, c(\"title\", \"chapter\"), sep = \"_\", convert = TRUE)\n",
        "\n",
        "chapters_gamma"
      ],
      "execution_count": 28,
      "outputs": [
        {
          "output_type": "error",
          "ename": "ERROR",
          "evalue": "ignored",
          "traceback": [
            "Error in eval(lhs, parent, parent): object 'chapters_gamma' not found\nTraceback:\n",
            "1. chapters_gamma %>% separate(document, c(\"title\", \"chapter\"), \n .     sep = \"_\", convert = TRUE)",
            "2. eval(lhs, parent, parent)",
            "3. eval(lhs, parent, parent)"
          ]
        }
      ]
    },
    {
      "cell_type": "code",
      "metadata": {
        "id": "vvA4st4gxWla",
        "colab_type": "code",
        "colab": {
          "base_uri": "https://localhost:8080/",
          "height": 181
        },
        "outputId": "453180a3-3064-4955-e3a7-f182783616bf"
      },
      "source": [
        "# reorder titles in order of topic 1, topic 2, etc before plotting\n",
        "chapters_gamma %>%\n",
        "  mutate(title = reorder(title, gamma * topic)) %>%\n",
        "  ggplot(aes(factor(topic), gamma)) +\n",
        "  geom_boxplot() +\n",
        "  facet_wrap(~ title)"
      ],
      "execution_count": 29,
      "outputs": [
        {
          "output_type": "error",
          "ename": "ERROR",
          "evalue": "ignored",
          "traceback": [
            "Error in eval(lhs, parent, parent): object 'chapters_gamma' not found\nTraceback:\n",
            "1. chapters_gamma %>% mutate(title = reorder(title, gamma * topic)) %>% \n .     ggplot(aes(factor(topic), gamma))",
            "2. eval(lhs, parent, parent)",
            "3. eval(lhs, parent, parent)"
          ]
        }
      ]
    },
    {
      "cell_type": "code",
      "metadata": {
        "id": "H9r9lJ57xX9x",
        "colab_type": "code",
        "colab": {
          "base_uri": "https://localhost:8080/",
          "height": 181
        },
        "outputId": "48684372-482b-4e60-ea96-1c9b66f19154"
      },
      "source": [
        "chapter_classifications <- chapters_gamma %>%\n",
        "  group_by(title, chapter) %>%\n",
        "  top_n(1, gamma) %>%\n",
        "  ungroup()\n",
        "\n",
        "chapter_classifications"
      ],
      "execution_count": 30,
      "outputs": [
        {
          "output_type": "error",
          "ename": "ERROR",
          "evalue": "ignored",
          "traceback": [
            "Error in eval(lhs, parent, parent): object 'chapters_gamma' not found\nTraceback:\n",
            "1. chapters_gamma %>% group_by(title, chapter) %>% top_n(1, gamma) %>% \n .     ungroup()",
            "2. eval(lhs, parent, parent)",
            "3. eval(lhs, parent, parent)"
          ]
        }
      ]
    },
    {
      "cell_type": "code",
      "metadata": {
        "id": "7LMkc2pFxZgx",
        "colab_type": "code",
        "colab": {
          "base_uri": "https://localhost:8080/",
          "height": 198
        },
        "outputId": "e15efa4b-39e7-450c-bdcd-dbd1fb5cb731"
      },
      "source": [
        "book_topics <- chapter_classifications %>%\n",
        "  count(title, topic) %>%\n",
        "  group_by(title) %>%\n",
        "  top_n(1, n) %>%\n",
        "  ungroup() %>%\n",
        "  transmute(consensus = title, topic)\n",
        "\n",
        "chapter_classifications %>%\n",
        "  inner_join(book_topics, by = \"topic\") %>%\n",
        "  filter(title != consensus)"
      ],
      "execution_count": 31,
      "outputs": [
        {
          "output_type": "error",
          "ename": "ERROR",
          "evalue": "ignored",
          "traceback": [
            "Error in eval(lhs, parent, parent): object 'chapter_classifications' not found\nTraceback:\n",
            "1. chapter_classifications %>% count(title, topic) %>% group_by(title) %>% \n .     top_n(1, n) %>% ungroup() %>% transmute(consensus = title, \n .     topic)",
            "2. eval(lhs, parent, parent)",
            "3. eval(lhs, parent, parent)"
          ]
        }
      ]
    },
    {
      "cell_type": "code",
      "metadata": {
        "id": "92_wTYQexbI_",
        "colab_type": "code",
        "colab": {
          "base_uri": "https://localhost:8080/",
          "height": 130
        },
        "outputId": "fdf89c15-0f39-4b11-afe8-41f3dfd44d2c"
      },
      "source": [
        "assignments <- augment(chapters_lda, data = chapters_dtm)\n",
        "assignments"
      ],
      "execution_count": 32,
      "outputs": [
        {
          "output_type": "error",
          "ename": "ERROR",
          "evalue": "ignored",
          "traceback": [
            "Error in augment(chapters_lda, data = chapters_dtm): object 'chapters_lda' not found\nTraceback:\n",
            "1. augment(chapters_lda, data = chapters_dtm)"
          ]
        }
      ]
    },
    {
      "cell_type": "code",
      "metadata": {
        "id": "Xlq24K_CxcQU",
        "colab_type": "code",
        "colab": {
          "base_uri": "https://localhost:8080/",
          "height": 181
        },
        "outputId": "bef989ac-5fd2-4f26-e091-fc9cbcf05dd8"
      },
      "source": [
        "assignments <- assignments %>%\n",
        "  separate(document, c(\"title\", \"chapter\"), sep = \"_\", convert = TRUE) %>%\n",
        "  inner_join(book_topics, by = c(\".topic\" = \"topic\"))\n",
        "\n",
        "assignments"
      ],
      "execution_count": 33,
      "outputs": [
        {
          "output_type": "error",
          "ename": "ERROR",
          "evalue": "ignored",
          "traceback": [
            "Error in eval(lhs, parent, parent): object 'assignments' not found\nTraceback:\n",
            "1. assignments %>% separate(document, c(\"title\", \"chapter\"), sep = \"_\", \n .     convert = TRUE) %>% inner_join(book_topics, by = c(.topic = \"topic\"))",
            "2. eval(lhs, parent, parent)",
            "3. eval(lhs, parent, parent)"
          ]
        }
      ]
    },
    {
      "cell_type": "code",
      "metadata": {
        "id": "xL2Q_cp0xdpR",
        "colab_type": "code",
        "colab": {
          "base_uri": "https://localhost:8080/",
          "height": 198
        },
        "outputId": "c0705a8f-b99f-4cb3-c3fe-a1a2991204d0"
      },
      "source": [
        "assignments %>%\n",
        "  count(title, consensus, wt = count) %>%\n",
        "  group_by(title) %>%\n",
        "  mutate(percent = n / sum(n)) %>%\n",
        "  ggplot(aes(consensus, title, fill = percent)) +\n",
        "  geom_tile() +\n",
        "  scale_fill_gradient2(high = \"red\", label = percent_format()) +\n",
        "  theme_minimal() +\n",
        "  theme(axis.text.x = element_text(angle = 90, hjust = 1),\n",
        "        panel.grid = element_blank()) +\n",
        "  labs(x = \"Book words were assigned to\",\n",
        "       y = \"Book words came from\",\n",
        "       fill = \"% of assignments\")"
      ],
      "execution_count": 34,
      "outputs": [
        {
          "output_type": "error",
          "ename": "ERROR",
          "evalue": "ignored",
          "traceback": [
            "Error in eval(lhs, parent, parent): object 'assignments' not found\nTraceback:\n",
            "1. assignments %>% count(title, consensus, wt = count) %>% group_by(title) %>% \n .     mutate(percent = n/sum(n)) %>% ggplot(aes(consensus, title, \n .     fill = percent))",
            "2. eval(lhs, parent, parent)",
            "3. eval(lhs, parent, parent)"
          ]
        }
      ]
    },
    {
      "cell_type": "code",
      "metadata": {
        "id": "GyJjxut4xfUb",
        "colab_type": "code",
        "colab": {
          "base_uri": "https://localhost:8080/",
          "height": 164
        },
        "outputId": "72de75f1-ac74-4861-8a61-6e4ec7c5f06d"
      },
      "source": [
        "wrong_words <- assignments %>%\n",
        "  filter(title != consensus)\n",
        "\n",
        "wrong_words"
      ],
      "execution_count": 35,
      "outputs": [
        {
          "output_type": "error",
          "ename": "ERROR",
          "evalue": "ignored",
          "traceback": [
            "Error in eval(lhs, parent, parent): object 'assignments' not found\nTraceback:\n",
            "1. assignments %>% filter(title != consensus)",
            "2. eval(lhs, parent, parent)",
            "3. eval(lhs, parent, parent)"
          ]
        }
      ]
    },
    {
      "cell_type": "code",
      "metadata": {
        "id": "wppW_6woxhMa",
        "colab_type": "code",
        "colab": {
          "base_uri": "https://localhost:8080/",
          "height": 181
        },
        "outputId": "5798b2b3-f89c-4b05-d81a-4acdb927a6a9"
      },
      "source": [
        "wrong_words %>%\n",
        "  count(title, consensus, term, wt = count) %>%\n",
        "  ungroup() %>%\n",
        "  arrange(desc(n))"
      ],
      "execution_count": 36,
      "outputs": [
        {
          "output_type": "error",
          "ename": "ERROR",
          "evalue": "ignored",
          "traceback": [
            "Error in eval(lhs, parent, parent): object 'wrong_words' not found\nTraceback:\n",
            "1. wrong_words %>% count(title, consensus, term, wt = count) %>% \n .     ungroup() %>% arrange(desc(n))",
            "2. eval(lhs, parent, parent)",
            "3. eval(lhs, parent, parent)"
          ]
        }
      ]
    },
    {
      "cell_type": "code",
      "metadata": {
        "id": "DY6z3xIoxi5Y",
        "colab_type": "code",
        "colab": {
          "base_uri": "https://localhost:8080/",
          "height": 164
        },
        "outputId": "3a94b4b0-d194-4236-f5a1-ef230c7eaba3"
      },
      "source": [
        "word_counts %>%\n",
        "  filter(word == \"flopson\")"
      ],
      "execution_count": 37,
      "outputs": [
        {
          "output_type": "error",
          "ename": "ERROR",
          "evalue": "ignored",
          "traceback": [
            "Error in eval(lhs, parent, parent): object 'word_counts' not found\nTraceback:\n",
            "1. word_counts %>% filter(word == \"flopson\")",
            "2. eval(lhs, parent, parent)",
            "3. eval(lhs, parent, parent)"
          ]
        }
      ]
    },
    {
      "cell_type": "code",
      "metadata": {
        "id": "Y_xJ6bRMxjyt",
        "colab_type": "code",
        "colab": {
          "base_uri": "https://localhost:8080/",
          "height": 249
        },
        "outputId": "68733a4c-1e82-483e-8358-f59cb6b65a6d"
      },
      "source": [
        "install.packages(\"mallet\")\n",
        "library(mallet)\n",
        "\n",
        "# create a vector with one string per chapter\n",
        "collapsed <- by_chapter_word %>%\n",
        "  anti_join(stop_words, by = \"word\") %>%\n",
        "  mutate(word = str_replace(word, \"'\", \"\")) %>%\n",
        "  group_by(document) %>%\n",
        "  summarize(text = paste(word, collapse = \" \"))\n",
        "\n",
        "# create an empty file of \"stopwords\"\n",
        "file.create(empty_file <- tempfile())\n",
        "docs <- mallet.import(collapsed$document, collapsed$text, empty_file)\n",
        "\n",
        "mallet_model <- MalletLDA(num.topics = 4)\n",
        "mallet_model$loadDocuments(docs)\n",
        "mallet_model$train(100)"
      ],
      "execution_count": 40,
      "outputs": [
        {
          "output_type": "stream",
          "text": [
            "Installing package into ‘/usr/local/lib/R/site-library’\n",
            "(as ‘lib’ is unspecified)\n",
            "also installing the dependency ‘rJava’\n",
            "\n",
            "Warning message in install.packages(\"mallet\"):\n",
            "“installation of package ‘rJava’ had non-zero exit status”Warning message in install.packages(\"mallet\"):\n",
            "“installation of package ‘mallet’ had non-zero exit status”"
          ],
          "name": "stderr"
        },
        {
          "output_type": "error",
          "ename": "ERROR",
          "evalue": "ignored",
          "traceback": [
            "Error in library(mallet): there is no package called ‘mallet’\nTraceback:\n",
            "1. library(mallet)"
          ]
        }
      ]
    },
    {
      "cell_type": "code",
      "metadata": {
        "id": "RhDKQ636xmXM",
        "colab_type": "code",
        "colab": {}
      },
      "source": [
        "# word-topic pairs\n",
        "tidy(mallet_model)\n",
        "\n",
        "# document-topic pairs\n",
        "tidy(mallet_model, matrix = \"gamma\")\n",
        "\n",
        "# column needs to be named \"term\" for \"augment\"\n",
        "term_counts <- rename(word_counts, term = word)\n",
        "augment(mallet_model, term_counts)"
      ],
      "execution_count": 0,
      "outputs": []
    },
    {
      "cell_type": "code",
      "metadata": {
        "id": "fMhyIWLwxoSn",
        "colab_type": "code",
        "colab": {}
      },
      "source": [
        ""
      ],
      "execution_count": 0,
      "outputs": []
    }
  ]
}