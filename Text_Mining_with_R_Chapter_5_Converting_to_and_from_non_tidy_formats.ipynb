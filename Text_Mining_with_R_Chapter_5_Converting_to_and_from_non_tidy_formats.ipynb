{
  "nbformat": 4,
  "nbformat_minor": 0,
  "metadata": {
    "colab": {
      "name": "Text Mining with R Chapter 5 Converting to and from non-tidy formats.ipynb",
      "version": "0.3.2",
      "provenance": [],
      "include_colab_link": true
    },
    "language_info": {
      "codemirror_mode": "r",
      "file_extension": ".r",
      "mimetype": "text/x-r-source",
      "name": "R",
      "pygments_lexer": "r",
      "version": "3.3.1"
    },
    "kernelspec": {
      "display_name": "R",
      "language": "R",
      "name": "ir"
    },
    "accelerator": "TPU"
  },
  "cells": [
    {
      "cell_type": "markdown",
      "metadata": {
        "id": "view-in-github",
        "colab_type": "text"
      },
      "source": [
        "<a href=\"https://colab.research.google.com/github/atlas-github/Sandbox/blob/master/Text_Mining_with_R_Chapter_5_Converting_to_and_from_non_tidy_formats.ipynb\" target=\"_parent\"><img src=\"https://colab.research.google.com/assets/colab-badge.svg\" alt=\"Open In Colab\"/></a>"
      ]
    },
    {
      "cell_type": "markdown",
      "metadata": {
        "id": "6kpW4t9kUVKk",
        "colab_type": "text"
      },
      "source": [
        "Source: [Text Mining with R Chapter 5 Converting to and from non-tidy formats](https://www.tidytextmining.com/dtm.html)"
      ]
    },
    {
      "cell_type": "code",
      "metadata": {
        "id": "ZE0muWTqUwrT",
        "colab_type": "code",
        "colab": {
          "base_uri": "https://localhost:8080/",
          "height": 249
        },
        "outputId": "4ad74bfe-b517-41bc-8271-57df08bc7de4"
      },
      "source": [
        "install.packages(\"tm\")\n",
        "install.packages(\"topicmodels\")\n",
        "library(tm)\n",
        "\n",
        "data(\"AssociatedPress\", package = \"topicmodels\")"
      ],
      "execution_count": 8,
      "outputs": [
        {
          "output_type": "stream",
          "text": [
            "Installing package into ‘/usr/local/lib/R/site-library’\n",
            "(as ‘lib’ is unspecified)\n",
            "Installing package into ‘/usr/local/lib/R/site-library’\n",
            "(as ‘lib’ is unspecified)\n",
            "Warning message in install.packages(\"topicmodels\"):\n",
            "“installation of package ‘topicmodels’ had non-zero exit status”"
          ],
          "name": "stderr"
        },
        {
          "output_type": "error",
          "ename": "ERROR",
          "evalue": "ignored",
          "traceback": [
            "Error in find.package(package, lib.loc, verbose = verbose): there is no package called ‘topicmodels’\nTraceback:\n",
            "1. data(\"AssociatedPress\", package = \"topicmodels\")",
            "2. find.package(package, lib.loc, verbose = verbose)"
          ]
        }
      ]
    },
    {
      "cell_type": "code",
      "metadata": {
        "id": "832EsNBir2vy",
        "colab_type": "code",
        "colab": {}
      },
      "source": [
        "terms <- Terms(AssociatedPress)\n",
        "head(terms)"
      ],
      "execution_count": 0,
      "outputs": []
    },
    {
      "cell_type": "code",
      "metadata": {
        "id": "O7QBTNxQsAdh",
        "colab_type": "code",
        "colab": {
          "base_uri": "https://localhost:8080/",
          "height": 317
        },
        "outputId": "3dc46698-6628-43a7-fd15-0cfcd009394f"
      },
      "source": [
        "library(dplyr)\n",
        "library(tidytext)\n",
        "\n",
        "ap_td <- tidy(AssociatedPress)\n",
        "ap_td"
      ],
      "execution_count": 9,
      "outputs": [
        {
          "output_type": "stream",
          "text": [
            "\n",
            "Attaching package: ‘dplyr’\n",
            "\n",
            "The following objects are masked from ‘package:stats’:\n",
            "\n",
            "    filter, lag\n",
            "\n",
            "The following objects are masked from ‘package:base’:\n",
            "\n",
            "    intersect, setdiff, setequal, union\n",
            "\n"
          ],
          "name": "stderr"
        },
        {
          "output_type": "error",
          "ename": "ERROR",
          "evalue": "ignored",
          "traceback": [
            "Error in tidy(AssociatedPress): object 'AssociatedPress' not found\nTraceback:\n",
            "1. tidy(AssociatedPress)"
          ]
        }
      ]
    },
    {
      "cell_type": "code",
      "metadata": {
        "id": "epEq3mOvsnJs",
        "colab_type": "code",
        "colab": {
          "base_uri": "https://localhost:8080/",
          "height": 164
        },
        "outputId": "c2c11caa-2966-414a-bc05-35d1d3c5f1a2"
      },
      "source": [
        "ap_sentiments <- ap_td %>%\n",
        "  inner_join(get_sentiments(\"bing\"), by = c(term = \"word\"))\n",
        "\n",
        "ap_sentiments"
      ],
      "execution_count": 10,
      "outputs": [
        {
          "output_type": "error",
          "ename": "ERROR",
          "evalue": "ignored",
          "traceback": [
            "Error in eval(lhs, parent, parent): object 'ap_td' not found\nTraceback:\n",
            "1. ap_td %>% inner_join(get_sentiments(\"bing\"), by = c(term = \"word\"))",
            "2. eval(lhs, parent, parent)",
            "3. eval(lhs, parent, parent)"
          ]
        }
      ]
    },
    {
      "cell_type": "code",
      "metadata": {
        "id": "Dbn2gvDUspnB",
        "colab_type": "code",
        "colab": {
          "base_uri": "https://localhost:8080/",
          "height": 334
        },
        "outputId": "0a477ae8-a53c-4f07-8091-fec78c65adae"
      },
      "source": [
        "library(ggplot2)\n",
        "\n",
        "ap_sentiments %>%\n",
        "  count(sentiment, term, wt = count) %>%\n",
        "  ungroup() %>%\n",
        "  filter(n >= 200) %>%\n",
        "  mutate(n = ifelse(sentiment == \"negative\", -n, n)) %>%\n",
        "  mutate(term = reorder(term, n)) %>%\n",
        "  ggplot(aes(term, n, fill = sentiment)) +\n",
        "  geom_bar(stat = \"identity\") +\n",
        "  ylab(\"Contribution to sentiment\") +\n",
        "  coord_flip()"
      ],
      "execution_count": 11,
      "outputs": [
        {
          "output_type": "stream",
          "text": [
            "\n",
            "Attaching package: ‘ggplot2’\n",
            "\n",
            "The following object is masked from ‘package:NLP’:\n",
            "\n",
            "    annotate\n",
            "\n"
          ],
          "name": "stderr"
        },
        {
          "output_type": "error",
          "ename": "ERROR",
          "evalue": "ignored",
          "traceback": [
            "Error in eval(lhs, parent, parent): object 'ap_sentiments' not found\nTraceback:\n",
            "1. ap_sentiments %>% count(sentiment, term, wt = count) %>% ungroup() %>% \n .     filter(n >= 200) %>% mutate(n = ifelse(sentiment == \"negative\", \n .     -n, n)) %>% mutate(term = reorder(term, n)) %>% ggplot(aes(term, \n .     n, fill = sentiment))",
            "2. eval(lhs, parent, parent)",
            "3. eval(lhs, parent, parent)"
          ]
        }
      ]
    },
    {
      "cell_type": "code",
      "metadata": {
        "id": "GVfk-_NFsrTv",
        "colab_type": "code",
        "colab": {
          "base_uri": "https://localhost:8080/",
          "height": 147
        },
        "outputId": "21129a17-50c2-4835-f441-f3d94abbec36"
      },
      "source": [
        "data(\"data_corpus_inaugural\", package = \"quanteda\")\n",
        "inaug_dfm <- quanteda::dfm(data_corpus_inaugural, verbose = FALSE)\n",
        "inaug_dfm"
      ],
      "execution_count": 13,
      "outputs": [
        {
          "output_type": "error",
          "ename": "ERROR",
          "evalue": "ignored",
          "traceback": [
            "Error in find.package(package, lib.loc, verbose = verbose): there is no package called ‘quanteda’\nTraceback:\n",
            "1. data(\"data_corpus_inaugural\", package = \"quanteda\")",
            "2. find.package(package, lib.loc, verbose = verbose)"
          ]
        }
      ]
    },
    {
      "cell_type": "code",
      "metadata": {
        "id": "ObPuFoSqstAR",
        "colab_type": "code",
        "colab": {
          "base_uri": "https://localhost:8080/",
          "height": 130
        },
        "outputId": "ac77c364-b3c6-435b-b0a1-99f257555ef6"
      },
      "source": [
        "inaug_td <- tidy(inaug_dfm)\n",
        "inaug_td"
      ],
      "execution_count": 14,
      "outputs": [
        {
          "output_type": "error",
          "ename": "ERROR",
          "evalue": "ignored",
          "traceback": [
            "Error in tidy(inaug_dfm): object 'inaug_dfm' not found\nTraceback:\n",
            "1. tidy(inaug_dfm)"
          ]
        }
      ]
    },
    {
      "cell_type": "code",
      "metadata": {
        "id": "7sTMZ-8nswa1",
        "colab_type": "code",
        "colab": {
          "base_uri": "https://localhost:8080/",
          "height": 164
        },
        "outputId": "adc3a90b-2c58-4a3b-f0c3-5ec05508f025"
      },
      "source": [
        "inaug_tf_idf <- inaug_td %>%\n",
        "  bind_tf_idf(term, document, count) %>%\n",
        "  arrange(desc(tf_idf))\n",
        "\n",
        "inaug_tf_idf"
      ],
      "execution_count": 15,
      "outputs": [
        {
          "output_type": "error",
          "ename": "ERROR",
          "evalue": "ignored",
          "traceback": [
            "Error in eval(lhs, parent, parent): object 'inaug_td' not found\nTraceback:\n",
            "1. inaug_td %>% bind_tf_idf(term, document, count) %>% arrange(desc(tf_idf))",
            "2. eval(lhs, parent, parent)",
            "3. eval(lhs, parent, parent)"
          ]
        }
      ]
    },
    {
      "cell_type": "code",
      "metadata": {
        "id": "7h7pWrHFsx5b",
        "colab_type": "code",
        "colab": {
          "base_uri": "https://localhost:8080/",
          "height": 198
        },
        "outputId": "63c24394-4f8b-46f1-d272-b1031cabee01"
      },
      "source": [
        "library(tidyr)\n",
        "\n",
        "year_term_counts <- inaug_td %>%\n",
        "  extract(document, \"year\", \"(\\\\d+)\", convert = TRUE) %>%\n",
        "  complete(year, term, fill = list(count = 0)) %>%\n",
        "  group_by(year) %>%\n",
        "  mutate(year_total = sum(count))"
      ],
      "execution_count": 16,
      "outputs": [
        {
          "output_type": "error",
          "ename": "ERROR",
          "evalue": "ignored",
          "traceback": [
            "Error in eval(lhs, parent, parent): object 'inaug_td' not found\nTraceback:\n",
            "1. inaug_td %>% extract(document, \"year\", \"(\\\\d+)\", convert = TRUE) %>% \n .     complete(year, term, fill = list(count = 0)) %>% group_by(year) %>% \n .     mutate(year_total = sum(count))",
            "2. eval(lhs, parent, parent)",
            "3. eval(lhs, parent, parent)"
          ]
        }
      ]
    },
    {
      "cell_type": "code",
      "metadata": {
        "id": "uc_DuUDXszaZ",
        "colab_type": "code",
        "colab": {
          "base_uri": "https://localhost:8080/",
          "height": 198
        },
        "outputId": "4921ce2f-be27-4805-a066-03481d75e9c7"
      },
      "source": [
        "year_term_counts %>%\n",
        "  filter(term %in% c(\"god\", \"america\", \"foreign\", \"union\", \"constitution\", \"freedom\")) %>%\n",
        "  ggplot(aes(year, count / year_total)) +\n",
        "  geom_point() +\n",
        "  geom_smooth() +\n",
        "  facet_wrap(~ term, scales = \"free_y\") +\n",
        "  scale_y_continuous(labels = scales::percent_format()) +\n",
        "  ylab(\"% frequency of word in inaugural address\")"
      ],
      "execution_count": 17,
      "outputs": [
        {
          "output_type": "error",
          "ename": "ERROR",
          "evalue": "ignored",
          "traceback": [
            "Error in eval(lhs, parent, parent): object 'year_term_counts' not found\nTraceback:\n",
            "1. year_term_counts %>% filter(term %in% c(\"god\", \"america\", \"foreign\", \n .     \"union\", \"constitution\", \"freedom\")) %>% ggplot(aes(year, \n .     count/year_total))",
            "2. eval(lhs, parent, parent)",
            "3. eval(lhs, parent, parent)"
          ]
        }
      ]
    },
    {
      "cell_type": "code",
      "metadata": {
        "id": "wV-XxJqNs09p",
        "colab_type": "code",
        "colab": {
          "base_uri": "https://localhost:8080/",
          "height": 164
        },
        "outputId": "719f4c90-d42f-4ffb-9df2-bf1249be3807"
      },
      "source": [
        "ap_td %>%\n",
        "  cast_dtm(document, term, count)"
      ],
      "execution_count": 18,
      "outputs": [
        {
          "output_type": "error",
          "ename": "ERROR",
          "evalue": "ignored",
          "traceback": [
            "Error in eval(lhs, parent, parent): object 'ap_td' not found\nTraceback:\n",
            "1. ap_td %>% cast_dtm(document, term, count)",
            "2. eval(lhs, parent, parent)",
            "3. eval(lhs, parent, parent)"
          ]
        }
      ]
    },
    {
      "cell_type": "code",
      "metadata": {
        "id": "K-sG3tofs2yW",
        "colab_type": "code",
        "colab": {
          "base_uri": "https://localhost:8080/",
          "height": 164
        },
        "outputId": "d5ec495c-e882-4d0f-ea98-e521eb6035fa"
      },
      "source": [
        "ap_td %>%\n",
        "  cast_dfm(document, term, count)"
      ],
      "execution_count": 19,
      "outputs": [
        {
          "output_type": "error",
          "ename": "ERROR",
          "evalue": "ignored",
          "traceback": [
            "Error in eval(lhs, parent, parent): object 'ap_td' not found\nTraceback:\n",
            "1. ap_td %>% cast_dfm(document, term, count)",
            "2. eval(lhs, parent, parent)",
            "3. eval(lhs, parent, parent)"
          ]
        }
      ]
    },
    {
      "cell_type": "code",
      "metadata": {
        "id": "PcNG5sO4s4OR",
        "colab_type": "code",
        "colab": {
          "base_uri": "https://localhost:8080/",
          "height": 198
        },
        "outputId": "2bf9bb56-d097-451d-8c28-88c08b6326d8"
      },
      "source": [
        "install.packages(\"Matrix\")\n",
        "library(Matrix)\n",
        "\n",
        "# cast into a Matrix object\n",
        "m <- ap_td %>%\n",
        "  cast_sparse(document, term, count)\n",
        "\n",
        "class(m)"
      ],
      "execution_count": 21,
      "outputs": [
        {
          "output_type": "stream",
          "text": [
            "Installing package into ‘/usr/local/lib/R/site-library’\n",
            "(as ‘lib’ is unspecified)\n"
          ],
          "name": "stderr"
        },
        {
          "output_type": "error",
          "ename": "ERROR",
          "evalue": "ignored",
          "traceback": [
            "Error in eval(lhs, parent, parent): object 'ap_td' not found\nTraceback:\n",
            "1. ap_td %>% cast_sparse(document, term, count)",
            "2. eval(lhs, parent, parent)",
            "3. eval(lhs, parent, parent)"
          ]
        }
      ]
    },
    {
      "cell_type": "code",
      "metadata": {
        "id": "YS26r5gys6RB",
        "colab_type": "code",
        "colab": {}
      },
      "source": [
        "dim(m)"
      ],
      "execution_count": 0,
      "outputs": []
    },
    {
      "cell_type": "code",
      "metadata": {
        "id": "EupbcE80s-Xu",
        "colab_type": "code",
        "colab": {}
      },
      "source": [
        "library(janeaustenr)\n",
        "\n",
        "austen_dtm <- austen_books() %>%\n",
        "  unnest_tokens(word, text) %>%\n",
        "  count(book, word) %>%\n",
        "  cast_dtm(book, word, n)\n",
        "\n",
        "austen_dtm"
      ],
      "execution_count": 0,
      "outputs": []
    },
    {
      "cell_type": "code",
      "metadata": {
        "id": "ut1lBg7_s_tA",
        "colab_type": "code",
        "colab": {}
      },
      "source": [
        "data(\"acq\")\n",
        "acq"
      ],
      "execution_count": 0,
      "outputs": []
    },
    {
      "cell_type": "code",
      "metadata": {
        "id": "sGyeuIGgtBeq",
        "colab_type": "code",
        "colab": {}
      },
      "source": [
        "# first document\n",
        "acq[[1]]"
      ],
      "execution_count": 0,
      "outputs": []
    },
    {
      "cell_type": "code",
      "metadata": {
        "id": "_CrROnhetC9L",
        "colab_type": "code",
        "colab": {}
      },
      "source": [
        "acq_td <- tidy(acq)\n",
        "acq_td"
      ],
      "execution_count": 0,
      "outputs": []
    },
    {
      "cell_type": "code",
      "metadata": {
        "id": "3EGbPMpstEKR",
        "colab_type": "code",
        "colab": {}
      },
      "source": [
        "acq_tokens <- acq_td %>%\n",
        "  select(-places) %>%\n",
        "  unnest_tokens(word, text) %>%\n",
        "  anti_join(stop_words, by = \"word\")\n",
        "\n",
        "# most common words\n",
        "acq_tokens %>%\n",
        "  count(word, sort = TRUE)"
      ],
      "execution_count": 0,
      "outputs": []
    },
    {
      "cell_type": "code",
      "metadata": {
        "id": "C-ZP-9fetFzZ",
        "colab_type": "code",
        "colab": {}
      },
      "source": [
        "# tf-idf\n",
        "acq_tokens %>%\n",
        "  count(id, word) %>%\n",
        "  bind_tf_idf(word, id, n) %>%\n",
        "  arrange(desc(tf_idf))"
      ],
      "execution_count": 0,
      "outputs": []
    },
    {
      "cell_type": "code",
      "metadata": {
        "id": "JfrgO5cotHUT",
        "colab_type": "code",
        "colab": {}
      },
      "source": [
        "library(tm.plugin.webmining)\n",
        "library(purrr)\n",
        "\n",
        "company <- c(\"Microsoft\", \"Apple\", \"Google\", \"Amazon\", \"Facebook\",\n",
        "             \"Twitter\", \"IBM\", \"Yahoo\", \"Netflix\")\n",
        "symbol <- c(\"MSFT\", \"AAPL\", \"GOOG\", \"AMZN\", \"FB\", \"TWTR\", \"IBM\", \"YHOO\", \"NFLX\")\n",
        "\n",
        "download_articles <- function(symbol) {\n",
        "  WebCorpus(GoogleFinanceSource(paste0(\"NASDAQ:\", symbol)))\n",
        "}\n",
        "\n",
        "stock_articles <- tibble(company = company,\n",
        "                             symbol = symbol) %>%\n",
        "  mutate(corpus = map(symbol, download_articles))"
      ],
      "execution_count": 0,
      "outputs": []
    },
    {
      "cell_type": "code",
      "metadata": {
        "id": "WgBo15ZctMVL",
        "colab_type": "code",
        "colab": {}
      },
      "source": [
        "stock_articles"
      ],
      "execution_count": 0,
      "outputs": []
    },
    {
      "cell_type": "code",
      "metadata": {
        "id": "qISVYmh5tNtr",
        "colab_type": "code",
        "colab": {}
      },
      "source": [
        "stock_tokens <- stock_articles %>%\n",
        "  unnest(map(corpus, tidy)) %>%\n",
        "  unnest_tokens(word, text) %>%\n",
        "  select(company, datetimestamp, word, id, heading)\n",
        "\n",
        "stock_tokens"
      ],
      "execution_count": 0,
      "outputs": []
    },
    {
      "cell_type": "code",
      "metadata": {
        "id": "JzzVRp62tPCk",
        "colab_type": "code",
        "colab": {}
      },
      "source": [
        "library(stringr)\n",
        "\n",
        "stock_tf_idf <- stock_tokens %>%\n",
        "  count(company, word) %>%\n",
        "  filter(!str_detect(word, \"\\\\d+\")) %>%\n",
        "  bind_tf_idf(word, company, n) %>%\n",
        "  arrange(-tf_idf)"
      ],
      "execution_count": 0,
      "outputs": []
    },
    {
      "cell_type": "code",
      "metadata": {
        "id": "1JdTpSwJtRHJ",
        "colab_type": "code",
        "colab": {}
      },
      "source": [
        "stock_tokens %>%\n",
        "  anti_join(stop_words, by = \"word\") %>%\n",
        "  count(word, id, sort = TRUE) %>%\n",
        "  inner_join(get_sentiments(\"afinn\"), by = \"word\") %>%\n",
        "  group_by(word) %>%\n",
        "  summarize(contribution = sum(n * value)) %>%\n",
        "  top_n(12, abs(contribution)) %>%\n",
        "  mutate(word = reorder(word, contribution)) %>%\n",
        "  ggplot(aes(word, contribution)) +\n",
        "  geom_col() +\n",
        "  coord_flip() +\n",
        "  labs(y = \"Frequency of word * AFINN value\")"
      ],
      "execution_count": 0,
      "outputs": []
    },
    {
      "cell_type": "code",
      "metadata": {
        "id": "3t7peOQJtSgW",
        "colab_type": "code",
        "colab": {
          "base_uri": "https://localhost:8080/",
          "height": 215
        },
        "outputId": "c8232b65-8f8d-4d17-84b5-ca1e38b25d88"
      },
      "source": [
        "stock_tokens %>%\n",
        "  count(word) %>%\n",
        "  inner_join(get_sentiments(\"loughran\"), by = \"word\") %>%\n",
        "  group_by(sentiment) %>%\n",
        "  top_n(5, n) %>%\n",
        "  ungroup() %>%\n",
        "  mutate(word = reorder(word, n)) %>%\n",
        "  ggplot(aes(word, n)) +\n",
        "  geom_col() +\n",
        "  coord_flip() +\n",
        "  facet_wrap(~ sentiment, scales = \"free\") +\n",
        "  ylab(\"Frequency of this word in the recent financial articles\")"
      ],
      "execution_count": 22,
      "outputs": [
        {
          "output_type": "error",
          "ename": "ERROR",
          "evalue": "ignored",
          "traceback": [
            "Error in eval(lhs, parent, parent): object 'stock_tokens' not found\nTraceback:\n",
            "1. stock_tokens %>% count(word) %>% inner_join(get_sentiments(\"loughran\"), \n .     by = \"word\") %>% group_by(sentiment) %>% top_n(5, n) %>% \n .     ungroup() %>% mutate(word = reorder(word, n)) %>% ggplot(aes(word, \n .     n))",
            "2. eval(lhs, parent, parent)",
            "3. eval(lhs, parent, parent)"
          ]
        }
      ]
    },
    {
      "cell_type": "code",
      "metadata": {
        "id": "4uVXLmYOtURl",
        "colab_type": "code",
        "colab": {
          "base_uri": "https://localhost:8080/",
          "height": 181
        },
        "outputId": "82db3ff0-48da-4a04-8dbd-21e56f8a6fef"
      },
      "source": [
        "stock_sentiment_count <- stock_tokens %>%\n",
        "  inner_join(get_sentiments(\"loughran\"), by = \"word\") %>%\n",
        "  count(sentiment, company) %>%\n",
        "  spread(sentiment, n, fill = 0)\n",
        "\n",
        "stock_sentiment_count"
      ],
      "execution_count": 23,
      "outputs": [
        {
          "output_type": "error",
          "ename": "ERROR",
          "evalue": "ignored",
          "traceback": [
            "Error in eval(lhs, parent, parent): object 'stock_tokens' not found\nTraceback:\n",
            "1. stock_tokens %>% inner_join(get_sentiments(\"loughran\"), by = \"word\") %>% \n .     count(sentiment, company) %>% spread(sentiment, n, fill = 0)",
            "2. eval(lhs, parent, parent)",
            "3. eval(lhs, parent, parent)"
          ]
        }
      ]
    },
    {
      "cell_type": "code",
      "metadata": {
        "id": "j9s38xbQtVqN",
        "colab_type": "code",
        "colab": {
          "base_uri": "https://localhost:8080/",
          "height": 198
        },
        "outputId": "ec6b8291-491f-452a-cc84-9f02d35239fc"
      },
      "source": [
        "stock_sentiment_count %>%\n",
        "  mutate(score = (positive - negative) / (positive + negative)) %>%\n",
        "  mutate(company = reorder(company, score)) %>%\n",
        "  ggplot(aes(company, score, fill = score > 0)) +\n",
        "  geom_col(show.legend = FALSE) +\n",
        "  coord_flip() +\n",
        "  labs(x = \"Company\",\n",
        "       y = \"Positivity score among 20 recent news articles\")"
      ],
      "execution_count": 24,
      "outputs": [
        {
          "output_type": "error",
          "ename": "ERROR",
          "evalue": "ignored",
          "traceback": [
            "Error in eval(lhs, parent, parent): object 'stock_sentiment_count' not found\nTraceback:\n",
            "1. stock_sentiment_count %>% mutate(score = (positive - negative)/(positive + \n .     negative)) %>% mutate(company = reorder(company, score)) %>% \n .     ggplot(aes(company, score, fill = score > 0))",
            "2. eval(lhs, parent, parent)",
            "3. eval(lhs, parent, parent)"
          ]
        }
      ]
    },
    {
      "cell_type": "code",
      "metadata": {
        "id": "JEUxgcB_tXvf",
        "colab_type": "code",
        "colab": {}
      },
      "source": [
        ""
      ],
      "execution_count": 0,
      "outputs": []
    }
  ]
}