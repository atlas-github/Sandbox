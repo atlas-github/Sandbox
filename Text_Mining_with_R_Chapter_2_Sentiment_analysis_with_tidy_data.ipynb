{
  "nbformat": 4,
  "nbformat_minor": 0,
  "metadata": {
    "colab": {
      "name": "Text Mining with R Chapter 2 Sentiment analysis with tidy data.ipynb",
      "version": "0.3.2",
      "provenance": [],
      "include_colab_link": true
    },
    "language_info": {
      "codemirror_mode": "r",
      "file_extension": ".r",
      "mimetype": "text/x-r-source",
      "name": "R",
      "pygments_lexer": "r",
      "version": "3.3.1"
    },
    "kernelspec": {
      "display_name": "R",
      "language": "R",
      "name": "ir"
    },
    "accelerator": "TPU"
  },
  "cells": [
    {
      "cell_type": "markdown",
      "metadata": {
        "id": "view-in-github",
        "colab_type": "text"
      },
      "source": [
        "<a href=\"https://colab.research.google.com/github/atlas-github/Sandbox/blob/master/Text_Mining_with_R_Chapter_2_Sentiment_analysis_with_tidy_data.ipynb\" target=\"_parent\"><img src=\"https://colab.research.google.com/assets/colab-badge.svg\" alt=\"Open In Colab\"/></a>"
      ]
    },
    {
      "cell_type": "markdown",
      "metadata": {
        "id": "Pw0ALD1K_vgX",
        "colab_type": "text"
      },
      "source": [
        "Source: [Text Mining with R Chapter 2 Sentiment analysis with tidy data](https://www.tidytextmining.com/sentiment.html)"
      ]
    },
    {
      "cell_type": "code",
      "metadata": {
        "id": "5Ou5Jt8YBZIV",
        "colab_type": "code",
        "colab": {
          "base_uri": "https://localhost:8080/",
          "height": 351
        },
        "outputId": "d713f7c6-d9de-4bd6-a8a0-1d7b37c4fd10"
      },
      "source": [
        "install.packages(\"textdata\")\n",
        "library(tidytext)\n",
        "library(textdata)\n",
        "\n",
        "my_lexicon = lexicon_afinn()"
      ],
      "execution_count": 23,
      "outputs": [
        {
          "output_type": "stream",
          "text": [
            "Installing package into ‘/usr/local/lib/R/site-library’\n",
            "(as ‘lib’ is unspecified)\n"
          ],
          "name": "stderr"
        },
        {
          "output_type": "stream",
          "text": [
            "Do you want to download:\n",
            " Name: AFINN-111 \n",
            " URL: http://www2.imm.dtu.dk/pubdb/views/publication_details.php?id=6010 \n",
            " License: Open Database License (ODbL) v1.0 \n",
            " Size: 78 KB (cleaned 59 KB) \n",
            " Download mechanism: https \n"
          ],
          "name": "stdout"
        },
        {
          "output_type": "error",
          "ename": "ERROR",
          "evalue": "ignored",
          "traceback": [
            "Error in menu(choices = c(\"Yes\", \"No\"), title = title): menu() cannot be used non-interactively\nTraceback:\n",
            "1. lexicon_afinn()",
            "2. load_dataset(data_name = \"afinn\", name = \"afinn_111.rds\", dir = dir, \n .     delete = delete, return_path = return_path, clean = clean)",
            "3. printer(data_name)",
            "4. menu(choices = c(\"Yes\", \"No\"), title = title)",
            "5. stop(\"menu() cannot be used non-interactively\")"
          ]
        }
      ]
    },
    {
      "cell_type": "code",
      "metadata": {
        "id": "yJVzbcZLKG-x",
        "colab_type": "code",
        "colab": {
          "base_uri": "https://localhost:8080/",
          "height": 1000
        },
        "outputId": "d6d6f597-793c-445a-93cc-2267351ae178"
      },
      "source": [
        "get_sentiments(\"bing\")"
      ],
      "execution_count": 24,
      "outputs": [
        {
          "output_type": "display_data",
          "data": {
            "text/plain": [
              "     word          sentiment\n",
              "1    2-faces       negative \n",
              "2    abnormal      negative \n",
              "3    abolish       negative \n",
              "4    abominable    negative \n",
              "5    abominably    negative \n",
              "6    abominate     negative \n",
              "7    abomination   negative \n",
              "8    abort         negative \n",
              "9    aborted       negative \n",
              "10   aborts        negative \n",
              "11   abound        positive \n",
              "12   abounds       positive \n",
              "13   abrade        negative \n",
              "14   abrasive      negative \n",
              "15   abrupt        negative \n",
              "16   abruptly      negative \n",
              "17   abscond       negative \n",
              "18   absence       negative \n",
              "19   absent-minded negative \n",
              "20   absentee      negative \n",
              "21   absurd        negative \n",
              "22   absurdity     negative \n",
              "23   absurdly      negative \n",
              "24   absurdness    negative \n",
              "25   abundance     positive \n",
              "26   abundant      positive \n",
              "27   abuse         negative \n",
              "28   abused        negative \n",
              "29   abuses        negative \n",
              "30   abusive       negative \n",
              "⋮    ⋮             ⋮        \n",
              "6757 wrestle       negative \n",
              "6758 wretch        negative \n",
              "6759 wretched      negative \n",
              "6760 wretchedly    negative \n",
              "6761 wretchedness  negative \n",
              "6762 wrinkle       negative \n",
              "6763 wrinkled      negative \n",
              "6764 wrinkles      negative \n",
              "6765 wrip          negative \n",
              "6766 wripped       negative \n",
              "6767 wripping      negative \n",
              "6768 writhe        negative \n",
              "6769 wrong         negative \n",
              "6770 wrongful      negative \n",
              "6771 wrongly       negative \n",
              "6772 wrought       negative \n",
              "6773 yawn          negative \n",
              "6774 yay           positive \n",
              "6775 youthful      positive \n",
              "6776 zap           negative \n",
              "6777 zapped        negative \n",
              "6778 zaps          negative \n",
              "6779 zeal          positive \n",
              "6780 zealot        negative \n",
              "6781 zealous       negative \n",
              "6782 zealously     negative \n",
              "6783 zenith        positive \n",
              "6784 zest          positive \n",
              "6785 zippy         positive \n",
              "6786 zombie        negative "
            ],
            "text/latex": "A tibble: 6786 × 2\n\\begin{tabular}{r|ll}\n word & sentiment\\\\\n <chr> & <chr>\\\\\n\\hline\n\t 2-faces       & negative\\\\\n\t abnormal      & negative\\\\\n\t abolish       & negative\\\\\n\t abominable    & negative\\\\\n\t abominably    & negative\\\\\n\t abominate     & negative\\\\\n\t abomination   & negative\\\\\n\t abort         & negative\\\\\n\t aborted       & negative\\\\\n\t aborts        & negative\\\\\n\t abound        & positive\\\\\n\t abounds       & positive\\\\\n\t abrade        & negative\\\\\n\t abrasive      & negative\\\\\n\t abrupt        & negative\\\\\n\t abruptly      & negative\\\\\n\t abscond       & negative\\\\\n\t absence       & negative\\\\\n\t absent-minded & negative\\\\\n\t absentee      & negative\\\\\n\t absurd        & negative\\\\\n\t absurdity     & negative\\\\\n\t absurdly      & negative\\\\\n\t absurdness    & negative\\\\\n\t abundance     & positive\\\\\n\t abundant      & positive\\\\\n\t abuse         & negative\\\\\n\t abused        & negative\\\\\n\t abuses        & negative\\\\\n\t abusive       & negative\\\\\n\t ⋮ & ⋮\\\\\n\t wrestle      & negative\\\\\n\t wretch       & negative\\\\\n\t wretched     & negative\\\\\n\t wretchedly   & negative\\\\\n\t wretchedness & negative\\\\\n\t wrinkle      & negative\\\\\n\t wrinkled     & negative\\\\\n\t wrinkles     & negative\\\\\n\t wrip         & negative\\\\\n\t wripped      & negative\\\\\n\t wripping     & negative\\\\\n\t writhe       & negative\\\\\n\t wrong        & negative\\\\\n\t wrongful     & negative\\\\\n\t wrongly      & negative\\\\\n\t wrought      & negative\\\\\n\t yawn         & negative\\\\\n\t yay          & positive\\\\\n\t youthful     & positive\\\\\n\t zap          & negative\\\\\n\t zapped       & negative\\\\\n\t zaps         & negative\\\\\n\t zeal         & positive\\\\\n\t zealot       & negative\\\\\n\t zealous      & negative\\\\\n\t zealously    & negative\\\\\n\t zenith       & positive\\\\\n\t zest         & positive\\\\\n\t zippy        & positive\\\\\n\t zombie       & negative\\\\\n\\end{tabular}\n",
            "text/markdown": "\nA tibble: 6786 × 2\n\n| word &lt;chr&gt; | sentiment &lt;chr&gt; |\n|---|---|\n| 2-faces       | negative |\n| abnormal      | negative |\n| abolish       | negative |\n| abominable    | negative |\n| abominably    | negative |\n| abominate     | negative |\n| abomination   | negative |\n| abort         | negative |\n| aborted       | negative |\n| aborts        | negative |\n| abound        | positive |\n| abounds       | positive |\n| abrade        | negative |\n| abrasive      | negative |\n| abrupt        | negative |\n| abruptly      | negative |\n| abscond       | negative |\n| absence       | negative |\n| absent-minded | negative |\n| absentee      | negative |\n| absurd        | negative |\n| absurdity     | negative |\n| absurdly      | negative |\n| absurdness    | negative |\n| abundance     | positive |\n| abundant      | positive |\n| abuse         | negative |\n| abused        | negative |\n| abuses        | negative |\n| abusive       | negative |\n| ⋮ | ⋮ |\n| wrestle      | negative |\n| wretch       | negative |\n| wretched     | negative |\n| wretchedly   | negative |\n| wretchedness | negative |\n| wrinkle      | negative |\n| wrinkled     | negative |\n| wrinkles     | negative |\n| wrip         | negative |\n| wripped      | negative |\n| wripping     | negative |\n| writhe       | negative |\n| wrong        | negative |\n| wrongful     | negative |\n| wrongly      | negative |\n| wrought      | negative |\n| yawn         | negative |\n| yay          | positive |\n| youthful     | positive |\n| zap          | negative |\n| zapped       | negative |\n| zaps         | negative |\n| zeal         | positive |\n| zealot       | negative |\n| zealous      | negative |\n| zealously    | negative |\n| zenith       | positive |\n| zest         | positive |\n| zippy        | positive |\n| zombie       | negative |\n\n",
            "text/html": [
              "<table>\n",
              "<caption>A tibble: 6786 × 2</caption>\n",
              "<thead>\n",
              "\t<tr><th scope=col>word</th><th scope=col>sentiment</th></tr>\n",
              "\t<tr><th scope=col>&lt;chr&gt;</th><th scope=col>&lt;chr&gt;</th></tr>\n",
              "</thead>\n",
              "<tbody>\n",
              "\t<tr><td>2-faces      </td><td>negative</td></tr>\n",
              "\t<tr><td>abnormal     </td><td>negative</td></tr>\n",
              "\t<tr><td>abolish      </td><td>negative</td></tr>\n",
              "\t<tr><td>abominable   </td><td>negative</td></tr>\n",
              "\t<tr><td>abominably   </td><td>negative</td></tr>\n",
              "\t<tr><td>abominate    </td><td>negative</td></tr>\n",
              "\t<tr><td>abomination  </td><td>negative</td></tr>\n",
              "\t<tr><td>abort        </td><td>negative</td></tr>\n",
              "\t<tr><td>aborted      </td><td>negative</td></tr>\n",
              "\t<tr><td>aborts       </td><td>negative</td></tr>\n",
              "\t<tr><td>abound       </td><td>positive</td></tr>\n",
              "\t<tr><td>abounds      </td><td>positive</td></tr>\n",
              "\t<tr><td>abrade       </td><td>negative</td></tr>\n",
              "\t<tr><td>abrasive     </td><td>negative</td></tr>\n",
              "\t<tr><td>abrupt       </td><td>negative</td></tr>\n",
              "\t<tr><td>abruptly     </td><td>negative</td></tr>\n",
              "\t<tr><td>abscond      </td><td>negative</td></tr>\n",
              "\t<tr><td>absence      </td><td>negative</td></tr>\n",
              "\t<tr><td>absent-minded</td><td>negative</td></tr>\n",
              "\t<tr><td>absentee     </td><td>negative</td></tr>\n",
              "\t<tr><td>absurd       </td><td>negative</td></tr>\n",
              "\t<tr><td>absurdity    </td><td>negative</td></tr>\n",
              "\t<tr><td>absurdly     </td><td>negative</td></tr>\n",
              "\t<tr><td>absurdness   </td><td>negative</td></tr>\n",
              "\t<tr><td>abundance    </td><td>positive</td></tr>\n",
              "\t<tr><td>abundant     </td><td>positive</td></tr>\n",
              "\t<tr><td>abuse        </td><td>negative</td></tr>\n",
              "\t<tr><td>abused       </td><td>negative</td></tr>\n",
              "\t<tr><td>abuses       </td><td>negative</td></tr>\n",
              "\t<tr><td>abusive      </td><td>negative</td></tr>\n",
              "\t<tr><td>⋮</td><td>⋮</td></tr>\n",
              "\t<tr><td>wrestle     </td><td>negative</td></tr>\n",
              "\t<tr><td>wretch      </td><td>negative</td></tr>\n",
              "\t<tr><td>wretched    </td><td>negative</td></tr>\n",
              "\t<tr><td>wretchedly  </td><td>negative</td></tr>\n",
              "\t<tr><td>wretchedness</td><td>negative</td></tr>\n",
              "\t<tr><td>wrinkle     </td><td>negative</td></tr>\n",
              "\t<tr><td>wrinkled    </td><td>negative</td></tr>\n",
              "\t<tr><td>wrinkles    </td><td>negative</td></tr>\n",
              "\t<tr><td>wrip        </td><td>negative</td></tr>\n",
              "\t<tr><td>wripped     </td><td>negative</td></tr>\n",
              "\t<tr><td>wripping    </td><td>negative</td></tr>\n",
              "\t<tr><td>writhe      </td><td>negative</td></tr>\n",
              "\t<tr><td>wrong       </td><td>negative</td></tr>\n",
              "\t<tr><td>wrongful    </td><td>negative</td></tr>\n",
              "\t<tr><td>wrongly     </td><td>negative</td></tr>\n",
              "\t<tr><td>wrought     </td><td>negative</td></tr>\n",
              "\t<tr><td>yawn        </td><td>negative</td></tr>\n",
              "\t<tr><td>yay         </td><td>positive</td></tr>\n",
              "\t<tr><td>youthful    </td><td>positive</td></tr>\n",
              "\t<tr><td>zap         </td><td>negative</td></tr>\n",
              "\t<tr><td>zapped      </td><td>negative</td></tr>\n",
              "\t<tr><td>zaps        </td><td>negative</td></tr>\n",
              "\t<tr><td>zeal        </td><td>positive</td></tr>\n",
              "\t<tr><td>zealot      </td><td>negative</td></tr>\n",
              "\t<tr><td>zealous     </td><td>negative</td></tr>\n",
              "\t<tr><td>zealously   </td><td>negative</td></tr>\n",
              "\t<tr><td>zenith      </td><td>positive</td></tr>\n",
              "\t<tr><td>zest        </td><td>positive</td></tr>\n",
              "\t<tr><td>zippy       </td><td>positive</td></tr>\n",
              "\t<tr><td>zombie      </td><td>negative</td></tr>\n",
              "</tbody>\n",
              "</table>\n"
            ]
          },
          "metadata": {
            "tags": []
          }
        }
      ]
    },
    {
      "cell_type": "code",
      "metadata": {
        "id": "eJkfAl-jKYww",
        "colab_type": "code",
        "colab": {
          "base_uri": "https://localhost:8080/",
          "height": 623
        },
        "outputId": "a6a03dbd-580d-4761-f337-30f7c62a5e68"
      },
      "source": [
        "get_sentiments(\"nrc\")"
      ],
      "execution_count": 25,
      "outputs": [
        {
          "output_type": "stream",
          "text": [
            "Do you want to download:\n",
            " Name: NRC Word-Emotion Association Lexicon \n",
            " URL: http://saifmohammad.com/WebPages/lexicons.html \n",
            " License: License required for commercial use. Please contact Saif M. Mohammad (saif.mohammad@nrc-cnrc.gc.ca). \n",
            " Size: 22.8 MB (cleaned 424 KB) \n",
            " Download mechanism: http \n",
            " Citation info:\n",
            "\n",
            "This dataset was published in Saif M. Mohammad and Peter Turney. (2013), ``Crowdsourcing a Word-Emotion Association Lexicon.'' Computational Intelligence, 29(3): 436-465.\n",
            "\n",
            "article{mohammad13,\n",
            "author = {Mohammad, Saif M. and Turney, Peter D.},\n",
            "title = {Crowdsourcing a Word-Emotion Association Lexicon},\n",
            "journal = {Computational Intelligence},\n",
            "volume = {29},\n",
            "number = {3},\n",
            "pages = {436-465},\n",
            "doi = {10.1111/j.1467-8640.2012.00460.x},\n",
            "url = {https://onlinelibrary.wiley.com/doi/abs/10.1111/j.1467-8640.2012.00460.x},\n",
            "eprint = {https://onlinelibrary.wiley.com/doi/pdf/10.1111/j.1467-8640.2012.00460.x},\n",
            "year = {2013}\n",
            "}\n",
            "If you use this lexicon, then please cite it. \n"
          ],
          "name": "stdout"
        },
        {
          "output_type": "error",
          "ename": "ERROR",
          "evalue": "ignored",
          "traceback": [
            "Error in menu(choices = c(\"Yes\", \"No\"), title = title): menu() cannot be used non-interactively\nTraceback:\n",
            "1. get_sentiments(\"nrc\")",
            "2. textdata::lexicon_nrc()",
            "3. load_dataset(data_name = \"nrc\", name = \"NRCWordEmotion.rds\", \n .     dir = dir, delete = delete, return_path = return_path, clean = clean)",
            "4. printer(data_name)",
            "5. menu(choices = c(\"Yes\", \"No\"), title = title)",
            "6. stop(\"menu() cannot be used non-interactively\")"
          ]
        }
      ]
    },
    {
      "cell_type": "code",
      "metadata": {
        "id": "8wzJjzrlK2LH",
        "colab_type": "code",
        "colab": {
          "base_uri": "https://localhost:8080/",
          "height": 204
        },
        "outputId": "fefdea4d-38b3-4eef-8afd-7a6faa800a1d"
      },
      "source": [
        "library(janeaustenr)\n",
        "library(dplyr)\n",
        "library(stringr)\n",
        "\n",
        "tidy_books <- austen_books() %>%\n",
        "  group_by(book) %>%\n",
        "  mutate(linenumber = row_number(),\n",
        "         chapter = cumsum(str_detect(text, regex(\"^chapter [\\\\divxlc]\", \n",
        "                                                 ignore_case = TRUE)))) %>%\n",
        "  ungroup() %>%\n",
        "  unnest_tokens(word, text)"
      ],
      "execution_count": 26,
      "outputs": [
        {
          "output_type": "stream",
          "text": [
            "\n",
            "Attaching package: ‘dplyr’\n",
            "\n",
            "The following objects are masked from ‘package:stats’:\n",
            "\n",
            "    filter, lag\n",
            "\n",
            "The following objects are masked from ‘package:base’:\n",
            "\n",
            "    intersect, setdiff, setequal, union\n",
            "\n"
          ],
          "name": "stderr"
        }
      ]
    },
    {
      "cell_type": "code",
      "metadata": {
        "id": "ME-g5IoQNHVp",
        "colab_type": "code",
        "colab": {
          "base_uri": "https://localhost:8080/",
          "height": 674
        },
        "outputId": "47704d58-15ce-4fd8-e651-792bcea8b562"
      },
      "source": [
        "nrc_joy <- get_sentiments(\"nrc\") %>% \n",
        "  filter(sentiment == \"joy\")\n",
        "\n",
        "tidy_books %>%\n",
        "  filter(book == \"Emma\") %>%\n",
        "  inner_join(nrc_joy) %>%\n",
        "  count(word, sort = TRUE)"
      ],
      "execution_count": 27,
      "outputs": [
        {
          "output_type": "stream",
          "text": [
            "Do you want to download:\n",
            " Name: NRC Word-Emotion Association Lexicon \n",
            " URL: http://saifmohammad.com/WebPages/lexicons.html \n",
            " License: License required for commercial use. Please contact Saif M. Mohammad (saif.mohammad@nrc-cnrc.gc.ca). \n",
            " Size: 22.8 MB (cleaned 424 KB) \n",
            " Download mechanism: http \n",
            " Citation info:\n",
            "\n",
            "This dataset was published in Saif M. Mohammad and Peter Turney. (2013), ``Crowdsourcing a Word-Emotion Association Lexicon.'' Computational Intelligence, 29(3): 436-465.\n",
            "\n",
            "article{mohammad13,\n",
            "author = {Mohammad, Saif M. and Turney, Peter D.},\n",
            "title = {Crowdsourcing a Word-Emotion Association Lexicon},\n",
            "journal = {Computational Intelligence},\n",
            "volume = {29},\n",
            "number = {3},\n",
            "pages = {436-465},\n",
            "doi = {10.1111/j.1467-8640.2012.00460.x},\n",
            "url = {https://onlinelibrary.wiley.com/doi/abs/10.1111/j.1467-8640.2012.00460.x},\n",
            "eprint = {https://onlinelibrary.wiley.com/doi/pdf/10.1111/j.1467-8640.2012.00460.x},\n",
            "year = {2013}\n",
            "}\n",
            "If you use this lexicon, then please cite it. \n"
          ],
          "name": "stdout"
        },
        {
          "output_type": "error",
          "ename": "ERROR",
          "evalue": "ignored",
          "traceback": [
            "Error in menu(choices = c(\"Yes\", \"No\"), title = title): menu() cannot be used non-interactively\nTraceback:\n",
            "1. get_sentiments(\"nrc\") %>% filter(sentiment == \"joy\")",
            "2. eval(lhs, parent, parent)",
            "3. eval(lhs, parent, parent)",
            "4. get_sentiments(\"nrc\")",
            "5. textdata::lexicon_nrc()",
            "6. load_dataset(data_name = \"nrc\", name = \"NRCWordEmotion.rds\", \n .     dir = dir, delete = delete, return_path = return_path, clean = clean)",
            "7. printer(data_name)",
            "8. menu(choices = c(\"Yes\", \"No\"), title = title)",
            "9. stop(\"menu() cannot be used non-interactively\")"
          ]
        }
      ]
    },
    {
      "cell_type": "code",
      "metadata": {
        "id": "PJTxsVjKNLjC",
        "colab_type": "code",
        "colab": {
          "base_uri": "https://localhost:8080/",
          "height": 34
        },
        "outputId": "590289df-7a37-48cc-d4ea-944d2e6c535c"
      },
      "source": [
        "library(tidyr)\n",
        "\n",
        "jane_austen_sentiment <- tidy_books %>%\n",
        "  inner_join(get_sentiments(\"bing\")) %>%\n",
        "  count(book, index = linenumber %/% 80, sentiment) %>%\n",
        "  spread(sentiment, n, fill = 0) %>%\n",
        "  mutate(sentiment = positive - negative)"
      ],
      "execution_count": 28,
      "outputs": [
        {
          "output_type": "stream",
          "text": [
            "Joining, by = \"word\"\n"
          ],
          "name": "stderr"
        }
      ]
    },
    {
      "cell_type": "code",
      "metadata": {
        "id": "81M1QFw2NOVX",
        "colab_type": "code",
        "colab": {
          "base_uri": "https://localhost:8080/",
          "height": 857
        },
        "outputId": "19ce74cb-ffc3-4985-e2bd-dce2008e6f0e"
      },
      "source": [
        "library(ggplot2)\n",
        "\n",
        "ggplot(jane_austen_sentiment, aes(index, sentiment, fill = book)) +\n",
        "  geom_col(show.legend = FALSE) +\n",
        "  facet_wrap(~book, ncol = 2, scales = \"free_x\")"
      ],
      "execution_count": 29,
      "outputs": [
        {
          "output_type": "display_data",
          "data": {
            "image/png": "[encoded data removed]",
            "text/plain": [
              "plot without title"
            ]
          },
          "metadata": {
            "tags": []
          }
        }
      ]
    },
    {
      "cell_type": "code",
      "metadata": {
        "id": "xU4E8lNQNQS2",
        "colab_type": "code",
        "colab": {
          "base_uri": "https://localhost:8080/",
          "height": 1000
        },
        "outputId": "0b5e14cd-fad7-4c3b-96ff-5c086b91b992"
      },
      "source": [
        "pride_prejudice <- tidy_books %>% \n",
        "  filter(book == \"Pride & Prejudice\")\n",
        "\n",
        "pride_prejudice"
      ],
      "execution_count": 30,
      "outputs": [
        {
          "output_type": "display_data",
          "data": {
            "text/plain": [
              "       book              linenumber chapter word        \n",
              "1      Pride & Prejudice  1         0       pride       \n",
              "2      Pride & Prejudice  1         0       and         \n",
              "3      Pride & Prejudice  1         0       prejudice   \n",
              "4      Pride & Prejudice  3         0       by          \n",
              "5      Pride & Prejudice  3         0       jane        \n",
              "6      Pride & Prejudice  3         0       austen      \n",
              "7      Pride & Prejudice  7         1       chapter     \n",
              "8      Pride & Prejudice  7         1       1           \n",
              "9      Pride & Prejudice 10         1       it          \n",
              "10     Pride & Prejudice 10         1       is          \n",
              "11     Pride & Prejudice 10         1       a           \n",
              "12     Pride & Prejudice 10         1       truth       \n",
              "13     Pride & Prejudice 10         1       universally \n",
              "14     Pride & Prejudice 10         1       acknowledged\n",
              "15     Pride & Prejudice 10         1       that        \n",
              "16     Pride & Prejudice 10         1       a           \n",
              "17     Pride & Prejudice 10         1       single      \n",
              "18     Pride & Prejudice 10         1       man         \n",
              "19     Pride & Prejudice 10         1       in          \n",
              "20     Pride & Prejudice 10         1       possession  \n",
              "21     Pride & Prejudice 11         1       of          \n",
              "22     Pride & Prejudice 11         1       a           \n",
              "23     Pride & Prejudice 11         1       good        \n",
              "24     Pride & Prejudice 11         1       fortune     \n",
              "25     Pride & Prejudice 11         1       must        \n",
              "26     Pride & Prejudice 11         1       be          \n",
              "27     Pride & Prejudice 11         1       in          \n",
              "28     Pride & Prejudice 11         1       want        \n",
              "29     Pride & Prejudice 11         1       of          \n",
              "30     Pride & Prejudice 11         1       a           \n",
              "⋮      ⋮                 ⋮          ⋮       ⋮           \n",
              "122175 Pride & Prejudice 13028      61      elizabeth   \n",
              "122176 Pride & Prejudice 13028      61      really      \n",
              "122177 Pride & Prejudice 13028      61      loved       \n",
              "122178 Pride & Prejudice 13028      61      them        \n",
              "122179 Pride & Prejudice 13028      61      and         \n",
              "122180 Pride & Prejudice 13028      61      they        \n",
              "122181 Pride & Prejudice 13028      61      were        \n",
              "122182 Pride & Prejudice 13028      61      both        \n",
              "122183 Pride & Prejudice 13028      61      ever        \n",
              "122184 Pride & Prejudice 13029      61      sensible    \n",
              "122185 Pride & Prejudice 13029      61      of          \n",
              "122186 Pride & Prejudice 13029      61      the         \n",
              "122187 Pride & Prejudice 13029      61      warmest     \n",
              "122188 Pride & Prejudice 13029      61      gratitude   \n",
              "122189 Pride & Prejudice 13029      61      towards     \n",
              "122190 Pride & Prejudice 13029      61      the         \n",
              "122191 Pride & Prejudice 13029      61      persons     \n",
              "122192 Pride & Prejudice 13029      61      who         \n",
              "122193 Pride & Prejudice 13029      61      by          \n",
              "122194 Pride & Prejudice 13029      61      bringing    \n",
              "122195 Pride & Prejudice 13030      61      her         \n",
              "122196 Pride & Prejudice 13030      61      into        \n",
              "122197 Pride & Prejudice 13030      61      derbyshire  \n",
              "122198 Pride & Prejudice 13030      61      had         \n",
              "122199 Pride & Prejudice 13030      61      been        \n",
              "122200 Pride & Prejudice 13030      61      the         \n",
              "122201 Pride & Prejudice 13030      61      means       \n",
              "122202 Pride & Prejudice 13030      61      of          \n",
              "122203 Pride & Prejudice 13030      61      uniting     \n",
              "122204 Pride & Prejudice 13030      61      them        "
            ],
            "text/latex": "A tibble: 122204 × 4\n\\begin{tabular}{r|llll}\n book & linenumber & chapter & word\\\\\n <fct> & <int> & <int> & <chr>\\\\\n\\hline\n\t Pride \\& Prejudice &  1 & 0 & pride       \\\\\n\t Pride \\& Prejudice &  1 & 0 & and         \\\\\n\t Pride \\& Prejudice &  1 & 0 & prejudice   \\\\\n\t Pride \\& Prejudice &  3 & 0 & by          \\\\\n\t Pride \\& Prejudice &  3 & 0 & jane        \\\\\n\t Pride \\& Prejudice &  3 & 0 & austen      \\\\\n\t Pride \\& Prejudice &  7 & 1 & chapter     \\\\\n\t Pride \\& Prejudice &  7 & 1 & 1           \\\\\n\t Pride \\& Prejudice & 10 & 1 & it          \\\\\n\t Pride \\& Prejudice & 10 & 1 & is          \\\\\n\t Pride \\& Prejudice & 10 & 1 & a           \\\\\n\t Pride \\& Prejudice & 10 & 1 & truth       \\\\\n\t Pride \\& Prejudice & 10 & 1 & universally \\\\\n\t Pride \\& Prejudice & 10 & 1 & acknowledged\\\\\n\t Pride \\& Prejudice & 10 & 1 & that        \\\\\n\t Pride \\& Prejudice & 10 & 1 & a           \\\\\n\t Pride \\& Prejudice & 10 & 1 & single      \\\\\n\t Pride \\& Prejudice & 10 & 1 & man         \\\\\n\t Pride \\& Prejudice & 10 & 1 & in          \\\\\n\t Pride \\& Prejudice & 10 & 1 & possession  \\\\\n\t Pride \\& Prejudice & 11 & 1 & of          \\\\\n\t Pride \\& Prejudice & 11 & 1 & a           \\\\\n\t Pride \\& Prejudice & 11 & 1 & good        \\\\\n\t Pride \\& Prejudice & 11 & 1 & fortune     \\\\\n\t Pride \\& Prejudice & 11 & 1 & must        \\\\\n\t Pride \\& Prejudice & 11 & 1 & be          \\\\\n\t Pride \\& Prejudice & 11 & 1 & in          \\\\\n\t Pride \\& Prejudice & 11 & 1 & want        \\\\\n\t Pride \\& Prejudice & 11 & 1 & of          \\\\\n\t Pride \\& Prejudice & 11 & 1 & a           \\\\\n\t ⋮ & ⋮ & ⋮ & ⋮\\\\\n\t Pride \\& Prejudice & 13028 & 61 & elizabeth \\\\\n\t Pride \\& Prejudice & 13028 & 61 & really    \\\\\n\t Pride \\& Prejudice & 13028 & 61 & loved     \\\\\n\t Pride \\& Prejudice & 13028 & 61 & them      \\\\\n\t Pride \\& Prejudice & 13028 & 61 & and       \\\\\n\t Pride \\& Prejudice & 13028 & 61 & they      \\\\\n\t Pride \\& Prejudice & 13028 & 61 & were      \\\\\n\t Pride \\& Prejudice & 13028 & 61 & both      \\\\\n\t Pride \\& Prejudice & 13028 & 61 & ever      \\\\\n\t Pride \\& Prejudice & 13029 & 61 & sensible  \\\\\n\t Pride \\& Prejudice & 13029 & 61 & of        \\\\\n\t Pride \\& Prejudice & 13029 & 61 & the       \\\\\n\t Pride \\& Prejudice & 13029 & 61 & warmest   \\\\\n\t Pride \\& Prejudice & 13029 & 61 & gratitude \\\\\n\t Pride \\& Prejudice & 13029 & 61 & towards   \\\\\n\t Pride \\& Prejudice & 13029 & 61 & the       \\\\\n\t Pride \\& Prejudice & 13029 & 61 & persons   \\\\\n\t Pride \\& Prejudice & 13029 & 61 & who       \\\\\n\t Pride \\& Prejudice & 13029 & 61 & by        \\\\\n\t Pride \\& Prejudice & 13029 & 61 & bringing  \\\\\n\t Pride \\& Prejudice & 13030 & 61 & her       \\\\\n\t Pride \\& Prejudice & 13030 & 61 & into      \\\\\n\t Pride \\& Prejudice & 13030 & 61 & derbyshire\\\\\n\t Pride \\& Prejudice & 13030 & 61 & had       \\\\\n\t Pride \\& Prejudice & 13030 & 61 & been      \\\\\n\t Pride \\& Prejudice & 13030 & 61 & the       \\\\\n\t Pride \\& Prejudice & 13030 & 61 & means     \\\\\n\t Pride \\& Prejudice & 13030 & 61 & of        \\\\\n\t Pride \\& Prejudice & 13030 & 61 & uniting   \\\\\n\t Pride \\& Prejudice & 13030 & 61 & them      \\\\\n\\end{tabular}\n",
            "text/markdown": "\nA tibble: 122204 × 4\n\n| book &lt;fct&gt; | linenumber &lt;int&gt; | chapter &lt;int&gt; | word &lt;chr&gt; |\n|---|---|---|---|\n| Pride &amp; Prejudice |  1 | 0 | pride        |\n| Pride &amp; Prejudice |  1 | 0 | and          |\n| Pride &amp; Prejudice |  1 | 0 | prejudice    |\n| Pride &amp; Prejudice |  3 | 0 | by           |\n| Pride &amp; Prejudice |  3 | 0 | jane         |\n| Pride &amp; Prejudice |  3 | 0 | austen       |\n| Pride &amp; Prejudice |  7 | 1 | chapter      |\n| Pride &amp; Prejudice |  7 | 1 | 1            |\n| Pride &amp; Prejudice | 10 | 1 | it           |\n| Pride &amp; Prejudice | 10 | 1 | is           |\n| Pride &amp; Prejudice | 10 | 1 | a            |\n| Pride &amp; Prejudice | 10 | 1 | truth        |\n| Pride &amp; Prejudice | 10 | 1 | universally  |\n| Pride &amp; Prejudice | 10 | 1 | acknowledged |\n| Pride &amp; Prejudice | 10 | 1 | that         |\n| Pride &amp; Prejudice | 10 | 1 | a            |\n| Pride &amp; Prejudice | 10 | 1 | single       |\n| Pride &amp; Prejudice | 10 | 1 | man          |\n| Pride &amp; Prejudice | 10 | 1 | in           |\n| Pride &amp; Prejudice | 10 | 1 | possession   |\n| Pride &amp; Prejudice | 11 | 1 | of           |\n| Pride &amp; Prejudice | 11 | 1 | a            |\n| Pride &amp; Prejudice | 11 | 1 | good         |\n| Pride &amp; Prejudice | 11 | 1 | fortune      |\n| Pride &amp; Prejudice | 11 | 1 | must         |\n| Pride &amp; Prejudice | 11 | 1 | be           |\n| Pride &amp; Prejudice | 11 | 1 | in           |\n| Pride &amp; Prejudice | 11 | 1 | want         |\n| Pride &amp; Prejudice | 11 | 1 | of           |\n| Pride &amp; Prejudice | 11 | 1 | a            |\n| ⋮ | ⋮ | ⋮ | ⋮ |\n| Pride &amp; Prejudice | 13028 | 61 | elizabeth  |\n| Pride &amp; Prejudice | 13028 | 61 | really     |\n| Pride &amp; Prejudice | 13028 | 61 | loved      |\n| Pride &amp; Prejudice | 13028 | 61 | them       |\n| Pride &amp; Prejudice | 13028 | 61 | and        |\n| Pride &amp; Prejudice | 13028 | 61 | they       |\n| Pride &amp; Prejudice | 13028 | 61 | were       |\n| Pride &amp; Prejudice | 13028 | 61 | both       |\n| Pride &amp; Prejudice | 13028 | 61 | ever       |\n| Pride &amp; Prejudice | 13029 | 61 | sensible   |\n| Pride &amp; Prejudice | 13029 | 61 | of         |\n| Pride &amp; Prejudice | 13029 | 61 | the        |\n| Pride &amp; Prejudice | 13029 | 61 | warmest    |\n| Pride &amp; Prejudice | 13029 | 61 | gratitude  |\n| Pride &amp; Prejudice | 13029 | 61 | towards    |\n| Pride &amp; Prejudice | 13029 | 61 | the        |\n| Pride &amp; Prejudice | 13029 | 61 | persons    |\n| Pride &amp; Prejudice | 13029 | 61 | who        |\n| Pride &amp; Prejudice | 13029 | 61 | by         |\n| Pride &amp; Prejudice | 13029 | 61 | bringing   |\n| Pride &amp; Prejudice | 13030 | 61 | her        |\n| Pride &amp; Prejudice | 13030 | 61 | into       |\n| Pride &amp; Prejudice | 13030 | 61 | derbyshire |\n| Pride &amp; Prejudice | 13030 | 61 | had        |\n| Pride &amp; Prejudice | 13030 | 61 | been       |\n| Pride &amp; Prejudice | 13030 | 61 | the        |\n| Pride &amp; Prejudice | 13030 | 61 | means      |\n| Pride &amp; Prejudice | 13030 | 61 | of         |\n| Pride &amp; Prejudice | 13030 | 61 | uniting    |\n| Pride &amp; Prejudice | 13030 | 61 | them       |\n\n",
            "text/html": [
              "<table>\n",
              "<caption>A tibble: 122204 × 4</caption>\n",
              "<thead>\n",
              "\t<tr><th scope=col>book</th><th scope=col>linenumber</th><th scope=col>chapter</th><th scope=col>word</th></tr>\n",
              "\t<tr><th scope=col>&lt;fct&gt;</th><th scope=col>&lt;int&gt;</th><th scope=col>&lt;int&gt;</th><th scope=col>&lt;chr&gt;</th></tr>\n",
              "</thead>\n",
              "<tbody>\n",
              "\t<tr><td>Pride &amp; Prejudice</td><td> 1</td><td>0</td><td><span style=white-space:pre-wrap>pride       </span></td></tr>\n",
              "\t<tr><td>Pride &amp; Prejudice</td><td> 1</td><td>0</td><td><span style=white-space:pre-wrap>and         </span></td></tr>\n",
              "\t<tr><td>Pride &amp; Prejudice</td><td> 1</td><td>0</td><td><span style=white-space:pre-wrap>prejudice   </span></td></tr>\n",
              "\t<tr><td>Pride &amp; Prejudice</td><td> 3</td><td>0</td><td><span style=white-space:pre-wrap>by          </span></td></tr>\n",
              "\t<tr><td>Pride &amp; Prejudice</td><td> 3</td><td>0</td><td><span style=white-space:pre-wrap>jane        </span></td></tr>\n",
              "\t<tr><td>Pride &amp; Prejudice</td><td> 3</td><td>0</td><td><span style=white-space:pre-wrap>austen      </span></td></tr>\n",
              "\t<tr><td>Pride &amp; Prejudice</td><td> 7</td><td>1</td><td><span style=white-space:pre-wrap>chapter     </span></td></tr>\n",
              "\t<tr><td>Pride &amp; Prejudice</td><td> 7</td><td>1</td><td><span style=white-space:pre-wrap>1           </span></td></tr>\n",
              "\t<tr><td>Pride &amp; Prejudice</td><td>10</td><td>1</td><td><span style=white-space:pre-wrap>it          </span></td></tr>\n",
              "\t<tr><td>Pride &amp; Prejudice</td><td>10</td><td>1</td><td><span style=white-space:pre-wrap>is          </span></td></tr>\n",
              "\t<tr><td>Pride &amp; Prejudice</td><td>10</td><td>1</td><td><span style=white-space:pre-wrap>a           </span></td></tr>\n",
              "\t<tr><td>Pride &amp; Prejudice</td><td>10</td><td>1</td><td><span style=white-space:pre-wrap>truth       </span></td></tr>\n",
              "\t<tr><td>Pride &amp; Prejudice</td><td>10</td><td>1</td><td>universally </td></tr>\n",
              "\t<tr><td>Pride &amp; Prejudice</td><td>10</td><td>1</td><td>acknowledged</td></tr>\n",
              "\t<tr><td>Pride &amp; Prejudice</td><td>10</td><td>1</td><td><span style=white-space:pre-wrap>that        </span></td></tr>\n",
              "\t<tr><td>Pride &amp; Prejudice</td><td>10</td><td>1</td><td><span style=white-space:pre-wrap>a           </span></td></tr>\n",
              "\t<tr><td>Pride &amp; Prejudice</td><td>10</td><td>1</td><td><span style=white-space:pre-wrap>single      </span></td></tr>\n",
              "\t<tr><td>Pride &amp; Prejudice</td><td>10</td><td>1</td><td><span style=white-space:pre-wrap>man         </span></td></tr>\n",
              "\t<tr><td>Pride &amp; Prejudice</td><td>10</td><td>1</td><td><span style=white-space:pre-wrap>in          </span></td></tr>\n",
              "\t<tr><td>Pride &amp; Prejudice</td><td>10</td><td>1</td><td><span style=white-space:pre-wrap>possession  </span></td></tr>\n",
              "\t<tr><td>Pride &amp; Prejudice</td><td>11</td><td>1</td><td><span style=white-space:pre-wrap>of          </span></td></tr>\n",
              "\t<tr><td>Pride &amp; Prejudice</td><td>11</td><td>1</td><td><span style=white-space:pre-wrap>a           </span></td></tr>\n",
              "\t<tr><td>Pride &amp; Prejudice</td><td>11</td><td>1</td><td><span style=white-space:pre-wrap>good        </span></td></tr>\n",
              "\t<tr><td>Pride &amp; Prejudice</td><td>11</td><td>1</td><td><span style=white-space:pre-wrap>fortune     </span></td></tr>\n",
              "\t<tr><td>Pride &amp; Prejudice</td><td>11</td><td>1</td><td><span style=white-space:pre-wrap>must        </span></td></tr>\n",
              "\t<tr><td>Pride &amp; Prejudice</td><td>11</td><td>1</td><td><span style=white-space:pre-wrap>be          </span></td></tr>\n",
              "\t<tr><td>Pride &amp; Prejudice</td><td>11</td><td>1</td><td><span style=white-space:pre-wrap>in          </span></td></tr>\n",
              "\t<tr><td>Pride &amp; Prejudice</td><td>11</td><td>1</td><td><span style=white-space:pre-wrap>want        </span></td></tr>\n",
              "\t<tr><td>Pride &amp; Prejudice</td><td>11</td><td>1</td><td><span style=white-space:pre-wrap>of          </span></td></tr>\n",
              "\t<tr><td>Pride &amp; Prejudice</td><td>11</td><td>1</td><td><span style=white-space:pre-wrap>a           </span></td></tr>\n",
              "\t<tr><td>⋮</td><td>⋮</td><td>⋮</td><td>⋮</td></tr>\n",
              "\t<tr><td>Pride &amp; Prejudice</td><td>13028</td><td>61</td><td>elizabeth </td></tr>\n",
              "\t<tr><td>Pride &amp; Prejudice</td><td>13028</td><td>61</td><td><span style=white-space:pre-wrap>really    </span></td></tr>\n",
              "\t<tr><td>Pride &amp; Prejudice</td><td>13028</td><td>61</td><td><span style=white-space:pre-wrap>loved     </span></td></tr>\n",
              "\t<tr><td>Pride &amp; Prejudice</td><td>13028</td><td>61</td><td><span style=white-space:pre-wrap>them      </span></td></tr>\n",
              "\t<tr><td>Pride &amp; Prejudice</td><td>13028</td><td>61</td><td><span style=white-space:pre-wrap>and       </span></td></tr>\n",
              "\t<tr><td>Pride &amp; Prejudice</td><td>13028</td><td>61</td><td><span style=white-space:pre-wrap>they      </span></td></tr>\n",
              "\t<tr><td>Pride &amp; Prejudice</td><td>13028</td><td>61</td><td><span style=white-space:pre-wrap>were      </span></td></tr>\n",
              "\t<tr><td>Pride &amp; Prejudice</td><td>13028</td><td>61</td><td><span style=white-space:pre-wrap>both      </span></td></tr>\n",
              "\t<tr><td>Pride &amp; Prejudice</td><td>13028</td><td>61</td><td><span style=white-space:pre-wrap>ever      </span></td></tr>\n",
              "\t<tr><td>Pride &amp; Prejudice</td><td>13029</td><td>61</td><td><span style=white-space:pre-wrap>sensible  </span></td></tr>\n",
              "\t<tr><td>Pride &amp; Prejudice</td><td>13029</td><td>61</td><td><span style=white-space:pre-wrap>of        </span></td></tr>\n",
              "\t<tr><td>Pride &amp; Prejudice</td><td>13029</td><td>61</td><td><span style=white-space:pre-wrap>the       </span></td></tr>\n",
              "\t<tr><td>Pride &amp; Prejudice</td><td>13029</td><td>61</td><td><span style=white-space:pre-wrap>warmest   </span></td></tr>\n",
              "\t<tr><td>Pride &amp; Prejudice</td><td>13029</td><td>61</td><td>gratitude </td></tr>\n",
              "\t<tr><td>Pride &amp; Prejudice</td><td>13029</td><td>61</td><td><span style=white-space:pre-wrap>towards   </span></td></tr>\n",
              "\t<tr><td>Pride &amp; Prejudice</td><td>13029</td><td>61</td><td><span style=white-space:pre-wrap>the       </span></td></tr>\n",
              "\t<tr><td>Pride &amp; Prejudice</td><td>13029</td><td>61</td><td><span style=white-space:pre-wrap>persons   </span></td></tr>\n",
              "\t<tr><td>Pride &amp; Prejudice</td><td>13029</td><td>61</td><td><span style=white-space:pre-wrap>who       </span></td></tr>\n",
              "\t<tr><td>Pride &amp; Prejudice</td><td>13029</td><td>61</td><td><span style=white-space:pre-wrap>by        </span></td></tr>\n",
              "\t<tr><td>Pride &amp; Prejudice</td><td>13029</td><td>61</td><td><span style=white-space:pre-wrap>bringing  </span></td></tr>\n",
              "\t<tr><td>Pride &amp; Prejudice</td><td>13030</td><td>61</td><td><span style=white-space:pre-wrap>her       </span></td></tr>\n",
              "\t<tr><td>Pride &amp; Prejudice</td><td>13030</td><td>61</td><td><span style=white-space:pre-wrap>into      </span></td></tr>\n",
              "\t<tr><td>Pride &amp; Prejudice</td><td>13030</td><td>61</td><td>derbyshire</td></tr>\n",
              "\t<tr><td>Pride &amp; Prejudice</td><td>13030</td><td>61</td><td><span style=white-space:pre-wrap>had       </span></td></tr>\n",
              "\t<tr><td>Pride &amp; Prejudice</td><td>13030</td><td>61</td><td><span style=white-space:pre-wrap>been      </span></td></tr>\n",
              "\t<tr><td>Pride &amp; Prejudice</td><td>13030</td><td>61</td><td><span style=white-space:pre-wrap>the       </span></td></tr>\n",
              "\t<tr><td>Pride &amp; Prejudice</td><td>13030</td><td>61</td><td><span style=white-space:pre-wrap>means     </span></td></tr>\n",
              "\t<tr><td>Pride &amp; Prejudice</td><td>13030</td><td>61</td><td><span style=white-space:pre-wrap>of        </span></td></tr>\n",
              "\t<tr><td>Pride &amp; Prejudice</td><td>13030</td><td>61</td><td><span style=white-space:pre-wrap>uniting   </span></td></tr>\n",
              "\t<tr><td>Pride &amp; Prejudice</td><td>13030</td><td>61</td><td><span style=white-space:pre-wrap>them      </span></td></tr>\n",
              "</tbody>\n",
              "</table>\n"
            ]
          },
          "metadata": {
            "tags": []
          }
        }
      ]
    },
    {
      "cell_type": "code",
      "metadata": {
        "id": "qbnIVLJMNTHS",
        "colab_type": "code",
        "colab": {
          "base_uri": "https://localhost:8080/",
          "height": 606
        },
        "outputId": "844ddead-f035-4915-f32e-881a5e7b8575"
      },
      "source": [
        "afinn <- pride_prejudice %>% \n",
        "  inner_join(get_sentiments(\"afinn\")) %>% \n",
        "  group_by(index = linenumber %/% 80) %>% \n",
        "  summarise(sentiment = sum(value)) %>% \n",
        "  mutate(method = \"AFINN\")\n",
        "\n",
        "bing_and_nrc <- bind_rows(pride_prejudice %>% \n",
        "                            inner_join(get_sentiments(\"bing\")) %>%\n",
        "                            mutate(method = \"Bing et al.\"),\n",
        "                          pride_prejudice %>% \n",
        "                            inner_join(get_sentiments(\"nrc\") %>% \n",
        "                                         filter(sentiment %in% c(\"positive\", \n",
        "                                                                 \"negative\"))) %>%\n",
        "                            mutate(method = \"NRC\")) %>%\n",
        "  count(method, index = linenumber %/% 80, sentiment) %>%\n",
        "  spread(sentiment, n, fill = 0) %>%\n",
        "  mutate(sentiment = positive - negative)"
      ],
      "execution_count": 31,
      "outputs": [
        {
          "output_type": "stream",
          "text": [
            "Do you want to download:\n",
            " Name: AFINN-111 \n",
            " URL: http://www2.imm.dtu.dk/pubdb/views/publication_details.php?id=6010 \n",
            " License: Open Database License (ODbL) v1.0 \n",
            " Size: 78 KB (cleaned 59 KB) \n",
            " Download mechanism: https \n"
          ],
          "name": "stdout"
        },
        {
          "output_type": "error",
          "ename": "ERROR",
          "evalue": "ignored",
          "traceback": [
            "Error in menu(choices = c(\"Yes\", \"No\"), title = title): menu() cannot be used non-interactively\nTraceback:\n",
            "1. pride_prejudice %>% inner_join(get_sentiments(\"afinn\")) %>% group_by(index = linenumber%/%80) %>% \n .     summarise(sentiment = sum(value)) %>% mutate(method = \"AFINN\")",
            "2. withVisible(eval(quote(`_fseq`(`_lhs`)), env, env))",
            "3. eval(quote(`_fseq`(`_lhs`)), env, env)",
            "4. eval(quote(`_fseq`(`_lhs`)), env, env)",
            "5. `_fseq`(`_lhs`)",
            "6. freduce(value, `_function_list`)",
            "7. function_list[[i]](value)",
            "8. inner_join(., get_sentiments(\"afinn\"))",
            "9. inner_join.tbl_df(., get_sentiments(\"afinn\"))",
            "10. check_valid_names(tbl_vars(y))",
            "11. tbl_vars(y)",
            "12. new_sel_vars(tbl_vars_dispatch(x), group_vars(x))",
            "13. structure(vars, groups = group_vars, class = c(\"dplyr_sel_vars\", \n  .     \"character\"))",
            "14. tbl_vars_dispatch(x)",
            "15. get_sentiments(\"afinn\")",
            "16. textdata::lexicon_afinn()",
            "17. load_dataset(data_name = \"afinn\", name = \"afinn_111.rds\", dir = dir, \n  .     delete = delete, return_path = return_path, clean = clean)",
            "18. printer(data_name)",
            "19. menu(choices = c(\"Yes\", \"No\"), title = title)",
            "20. stop(\"menu() cannot be used non-interactively\")"
          ]
        }
      ]
    },
    {
      "cell_type": "code",
      "metadata": {
        "id": "SphlKqogNVZZ",
        "colab_type": "code",
        "colab": {
          "base_uri": "https://localhost:8080/",
          "height": 232
        },
        "outputId": "f0ef4fd6-e840-4709-96fa-4f09f3f43cf1"
      },
      "source": [
        "bind_rows(afinn, \n",
        "          bing_and_nrc) %>%\n",
        "  ggplot(aes(index, sentiment, fill = method)) +\n",
        "  geom_col(show.legend = FALSE) +\n",
        "  facet_wrap(~method, ncol = 1, scales = \"free_y\")"
      ],
      "execution_count": 32,
      "outputs": [
        {
          "output_type": "error",
          "ename": "ERROR",
          "evalue": "ignored",
          "traceback": [
            "Error in dots_values(...): object 'afinn' not found\nTraceback:\n",
            "1. bind_rows(afinn, bing_and_nrc) %>% ggplot(aes(index, sentiment, \n .     fill = method))",
            "2. eval(lhs, parent, parent)",
            "3. eval(lhs, parent, parent)",
            "4. bind_rows(afinn, bing_and_nrc)",
            "5. flatten_bindable(dots_values(...))",
            "6. dots_values(...)"
          ]
        }
      ]
    },
    {
      "cell_type": "code",
      "metadata": {
        "id": "2F8TJrJzNXhC",
        "colab_type": "code",
        "colab": {
          "base_uri": "https://localhost:8080/",
          "height": 691
        },
        "outputId": "a27eebee-b979-4f03-db8a-87743edc77b3"
      },
      "source": [
        "get_sentiments(\"nrc\") %>% \n",
        "     filter(sentiment %in% c(\"positive\", \n",
        "                             \"negative\")) %>% \n",
        "  count(sentiment)\n",
        "\n",
        "get_sentiments(\"bing\") %>% \n",
        "  count(sentiment)"
      ],
      "execution_count": 33,
      "outputs": [
        {
          "output_type": "stream",
          "text": [
            "Do you want to download:\n",
            " Name: NRC Word-Emotion Association Lexicon \n",
            " URL: http://saifmohammad.com/WebPages/lexicons.html \n",
            " License: License required for commercial use. Please contact Saif M. Mohammad (saif.mohammad@nrc-cnrc.gc.ca). \n",
            " Size: 22.8 MB (cleaned 424 KB) \n",
            " Download mechanism: http \n",
            " Citation info:\n",
            "\n",
            "This dataset was published in Saif M. Mohammad and Peter Turney. (2013), ``Crowdsourcing a Word-Emotion Association Lexicon.'' Computational Intelligence, 29(3): 436-465.\n",
            "\n",
            "article{mohammad13,\n",
            "author = {Mohammad, Saif M. and Turney, Peter D.},\n",
            "title = {Crowdsourcing a Word-Emotion Association Lexicon},\n",
            "journal = {Computational Intelligence},\n",
            "volume = {29},\n",
            "number = {3},\n",
            "pages = {436-465},\n",
            "doi = {10.1111/j.1467-8640.2012.00460.x},\n",
            "url = {https://onlinelibrary.wiley.com/doi/abs/10.1111/j.1467-8640.2012.00460.x},\n",
            "eprint = {https://onlinelibrary.wiley.com/doi/pdf/10.1111/j.1467-8640.2012.00460.x},\n",
            "year = {2013}\n",
            "}\n",
            "If you use this lexicon, then please cite it. \n"
          ],
          "name": "stdout"
        },
        {
          "output_type": "error",
          "ename": "ERROR",
          "evalue": "ignored",
          "traceback": [
            "Error in menu(choices = c(\"Yes\", \"No\"), title = title): menu() cannot be used non-interactively\nTraceback:\n",
            "1. get_sentiments(\"nrc\") %>% filter(sentiment %in% c(\"positive\", \n .     \"negative\")) %>% count(sentiment)",
            "2. eval(lhs, parent, parent)",
            "3. eval(lhs, parent, parent)",
            "4. get_sentiments(\"nrc\")",
            "5. textdata::lexicon_nrc()",
            "6. load_dataset(data_name = \"nrc\", name = \"NRCWordEmotion.rds\", \n .     dir = dir, delete = delete, return_path = return_path, clean = clean)",
            "7. printer(data_name)",
            "8. menu(choices = c(\"Yes\", \"No\"), title = title)",
            "9. stop(\"menu() cannot be used non-interactively\")"
          ]
        }
      ]
    },
    {
      "cell_type": "code",
      "metadata": {
        "id": "GcpQ8YlPNZJc",
        "colab_type": "code",
        "colab": {
          "base_uri": "https://localhost:8080/",
          "height": 1000
        },
        "outputId": "5dde5c43-7c39-484c-edf2-a6cf2518e076"
      },
      "source": [
        "bing_word_counts <- tidy_books %>%\n",
        "  inner_join(get_sentiments(\"bing\")) %>%\n",
        "  count(word, sentiment, sort = TRUE) %>%\n",
        "  ungroup()\n",
        "\n",
        "bing_word_counts"
      ],
      "execution_count": 34,
      "outputs": [
        {
          "output_type": "stream",
          "text": [
            "Joining, by = \"word\"\n"
          ],
          "name": "stderr"
        },
        {
          "output_type": "display_data",
          "data": {
            "text/plain": [
              "     word            sentiment n   \n",
              "1    miss            negative  1855\n",
              "2    well            positive  1523\n",
              "3    good            positive  1380\n",
              "4    great           positive   981\n",
              "5    like            positive   725\n",
              "6    better          positive   639\n",
              "7    enough          positive   613\n",
              "8    happy           positive   534\n",
              "9    love            positive   495\n",
              "10   pleasure        positive   462\n",
              "11   poor            negative   424\n",
              "12   happiness       positive   369\n",
              "13   right           positive   329\n",
              "14   best            positive   323\n",
              "15   comfort         positive   292\n",
              "16   doubt           negative   281\n",
              "17   affection       positive   272\n",
              "18   perfectly       positive   271\n",
              "19   glad            positive   263\n",
              "20   agreeable       positive   242\n",
              "21   pretty          positive   242\n",
              "22   object          negative   233\n",
              "23   ready           positive   226\n",
              "24   sorry           negative   219\n",
              "25   fine            positive   216\n",
              "26   impossible      negative   215\n",
              "27   regard          positive   214\n",
              "28   wonder          positive   206\n",
              "29   kindness        positive   200\n",
              "30   afraid          negative   198\n",
              "⋮    ⋮               ⋮         ⋮   \n",
              "2556 unfulfilled     negative  1   \n",
              "2557 ungovernable    negative  1   \n",
              "2558 unproductive    negative  1   \n",
              "2559 unquestionable  positive  1   \n",
              "2560 unselfish       positive  1   \n",
              "2561 unsettle        negative  1   \n",
              "2562 unsophisticated negative  1   \n",
              "2563 unsuccessful    negative  1   \n",
              "2564 unyielding      negative  1   \n",
              "2565 upbraid         negative  1   \n",
              "2566 useable         positive  1   \n",
              "2567 vehement        negative  1   \n",
              "2568 vehemently      negative  1   \n",
              "2569 vexing          negative  1   \n",
              "2570 villainous      negative  1   \n",
              "2571 villains        negative  1   \n",
              "2572 virulence       negative  1   \n",
              "2573 volatility      negative  1   \n",
              "2574 vulnerable      negative  1   \n",
              "2575 warped          negative  1   \n",
              "2576 wary            negative  1   \n",
              "2577 wasteful        negative  1   \n",
              "2578 weep            negative  1   \n",
              "2579 whine           negative  1   \n",
              "2580 winner          positive  1   \n",
              "2581 winning         positive  1   \n",
              "2582 wins            positive  1   \n",
              "2583 worries         negative  1   \n",
              "2584 wounds          negative  1   \n",
              "2585 wreck           negative  1   "
            ],
            "text/latex": "A tibble: 2585 × 3\n\\begin{tabular}{r|lll}\n word & sentiment & n\\\\\n <chr> & <chr> & <int>\\\\\n\\hline\n\t miss       & negative & 1855\\\\\n\t well       & positive & 1523\\\\\n\t good       & positive & 1380\\\\\n\t great      & positive &  981\\\\\n\t like       & positive &  725\\\\\n\t better     & positive &  639\\\\\n\t enough     & positive &  613\\\\\n\t happy      & positive &  534\\\\\n\t love       & positive &  495\\\\\n\t pleasure   & positive &  462\\\\\n\t poor       & negative &  424\\\\\n\t happiness  & positive &  369\\\\\n\t right      & positive &  329\\\\\n\t best       & positive &  323\\\\\n\t comfort    & positive &  292\\\\\n\t doubt      & negative &  281\\\\\n\t affection  & positive &  272\\\\\n\t perfectly  & positive &  271\\\\\n\t glad       & positive &  263\\\\\n\t agreeable  & positive &  242\\\\\n\t pretty     & positive &  242\\\\\n\t object     & negative &  233\\\\\n\t ready      & positive &  226\\\\\n\t sorry      & negative &  219\\\\\n\t fine       & positive &  216\\\\\n\t impossible & negative &  215\\\\\n\t regard     & positive &  214\\\\\n\t wonder     & positive &  206\\\\\n\t kindness   & positive &  200\\\\\n\t afraid     & negative &  198\\\\\n\t ⋮ & ⋮ & ⋮\\\\\n\t unfulfilled     & negative & 1\\\\\n\t ungovernable    & negative & 1\\\\\n\t unproductive    & negative & 1\\\\\n\t unquestionable  & positive & 1\\\\\n\t unselfish       & positive & 1\\\\\n\t unsettle        & negative & 1\\\\\n\t unsophisticated & negative & 1\\\\\n\t unsuccessful    & negative & 1\\\\\n\t unyielding      & negative & 1\\\\\n\t upbraid         & negative & 1\\\\\n\t useable         & positive & 1\\\\\n\t vehement        & negative & 1\\\\\n\t vehemently      & negative & 1\\\\\n\t vexing          & negative & 1\\\\\n\t villainous      & negative & 1\\\\\n\t villains        & negative & 1\\\\\n\t virulence       & negative & 1\\\\\n\t volatility      & negative & 1\\\\\n\t vulnerable      & negative & 1\\\\\n\t warped          & negative & 1\\\\\n\t wary            & negative & 1\\\\\n\t wasteful        & negative & 1\\\\\n\t weep            & negative & 1\\\\\n\t whine           & negative & 1\\\\\n\t winner          & positive & 1\\\\\n\t winning         & positive & 1\\\\\n\t wins            & positive & 1\\\\\n\t worries         & negative & 1\\\\\n\t wounds          & negative & 1\\\\\n\t wreck           & negative & 1\\\\\n\\end{tabular}\n",
            "text/markdown": "\nA tibble: 2585 × 3\n\n| word &lt;chr&gt; | sentiment &lt;chr&gt; | n &lt;int&gt; |\n|---|---|---|\n| miss       | negative | 1855 |\n| well       | positive | 1523 |\n| good       | positive | 1380 |\n| great      | positive |  981 |\n| like       | positive |  725 |\n| better     | positive |  639 |\n| enough     | positive |  613 |\n| happy      | positive |  534 |\n| love       | positive |  495 |\n| pleasure   | positive |  462 |\n| poor       | negative |  424 |\n| happiness  | positive |  369 |\n| right      | positive |  329 |\n| best       | positive |  323 |\n| comfort    | positive |  292 |\n| doubt      | negative |  281 |\n| affection  | positive |  272 |\n| perfectly  | positive |  271 |\n| glad       | positive |  263 |\n| agreeable  | positive |  242 |\n| pretty     | positive |  242 |\n| object     | negative |  233 |\n| ready      | positive |  226 |\n| sorry      | negative |  219 |\n| fine       | positive |  216 |\n| impossible | negative |  215 |\n| regard     | positive |  214 |\n| wonder     | positive |  206 |\n| kindness   | positive |  200 |\n| afraid     | negative |  198 |\n| ⋮ | ⋮ | ⋮ |\n| unfulfilled     | negative | 1 |\n| ungovernable    | negative | 1 |\n| unproductive    | negative | 1 |\n| unquestionable  | positive | 1 |\n| unselfish       | positive | 1 |\n| unsettle        | negative | 1 |\n| unsophisticated | negative | 1 |\n| unsuccessful    | negative | 1 |\n| unyielding      | negative | 1 |\n| upbraid         | negative | 1 |\n| useable         | positive | 1 |\n| vehement        | negative | 1 |\n| vehemently      | negative | 1 |\n| vexing          | negative | 1 |\n| villainous      | negative | 1 |\n| villains        | negative | 1 |\n| virulence       | negative | 1 |\n| volatility      | negative | 1 |\n| vulnerable      | negative | 1 |\n| warped          | negative | 1 |\n| wary            | negative | 1 |\n| wasteful        | negative | 1 |\n| weep            | negative | 1 |\n| whine           | negative | 1 |\n| winner          | positive | 1 |\n| winning         | positive | 1 |\n| wins            | positive | 1 |\n| worries         | negative | 1 |\n| wounds          | negative | 1 |\n| wreck           | negative | 1 |\n\n",
            "text/html": [
              "<table>\n",
              "<caption>A tibble: 2585 × 3</caption>\n",
              "<thead>\n",
              "\t<tr><th scope=col>word</th><th scope=col>sentiment</th><th scope=col>n</th></tr>\n",
              "\t<tr><th scope=col>&lt;chr&gt;</th><th scope=col>&lt;chr&gt;</th><th scope=col>&lt;int&gt;</th></tr>\n",
              "</thead>\n",
              "<tbody>\n",
              "\t<tr><td>miss      </td><td>negative</td><td>1855</td></tr>\n",
              "\t<tr><td>well      </td><td>positive</td><td>1523</td></tr>\n",
              "\t<tr><td>good      </td><td>positive</td><td>1380</td></tr>\n",
              "\t<tr><td>great     </td><td>positive</td><td> 981</td></tr>\n",
              "\t<tr><td>like      </td><td>positive</td><td> 725</td></tr>\n",
              "\t<tr><td>better    </td><td>positive</td><td> 639</td></tr>\n",
              "\t<tr><td>enough    </td><td>positive</td><td> 613</td></tr>\n",
              "\t<tr><td>happy     </td><td>positive</td><td> 534</td></tr>\n",
              "\t<tr><td>love      </td><td>positive</td><td> 495</td></tr>\n",
              "\t<tr><td>pleasure  </td><td>positive</td><td> 462</td></tr>\n",
              "\t<tr><td>poor      </td><td>negative</td><td> 424</td></tr>\n",
              "\t<tr><td>happiness </td><td>positive</td><td> 369</td></tr>\n",
              "\t<tr><td>right     </td><td>positive</td><td> 329</td></tr>\n",
              "\t<tr><td>best      </td><td>positive</td><td> 323</td></tr>\n",
              "\t<tr><td>comfort   </td><td>positive</td><td> 292</td></tr>\n",
              "\t<tr><td>doubt     </td><td>negative</td><td> 281</td></tr>\n",
              "\t<tr><td>affection </td><td>positive</td><td> 272</td></tr>\n",
              "\t<tr><td>perfectly </td><td>positive</td><td> 271</td></tr>\n",
              "\t<tr><td>glad      </td><td>positive</td><td> 263</td></tr>\n",
              "\t<tr><td>agreeable </td><td>positive</td><td> 242</td></tr>\n",
              "\t<tr><td>pretty    </td><td>positive</td><td> 242</td></tr>\n",
              "\t<tr><td>object    </td><td>negative</td><td> 233</td></tr>\n",
              "\t<tr><td>ready     </td><td>positive</td><td> 226</td></tr>\n",
              "\t<tr><td>sorry     </td><td>negative</td><td> 219</td></tr>\n",
              "\t<tr><td>fine      </td><td>positive</td><td> 216</td></tr>\n",
              "\t<tr><td>impossible</td><td>negative</td><td> 215</td></tr>\n",
              "\t<tr><td>regard    </td><td>positive</td><td> 214</td></tr>\n",
              "\t<tr><td>wonder    </td><td>positive</td><td> 206</td></tr>\n",
              "\t<tr><td>kindness  </td><td>positive</td><td> 200</td></tr>\n",
              "\t<tr><td>afraid    </td><td>negative</td><td> 198</td></tr>\n",
              "\t<tr><td>⋮</td><td>⋮</td><td>⋮</td></tr>\n",
              "\t<tr><td>unfulfilled    </td><td>negative</td><td>1</td></tr>\n",
              "\t<tr><td>ungovernable   </td><td>negative</td><td>1</td></tr>\n",
              "\t<tr><td>unproductive   </td><td>negative</td><td>1</td></tr>\n",
              "\t<tr><td>unquestionable </td><td>positive</td><td>1</td></tr>\n",
              "\t<tr><td>unselfish      </td><td>positive</td><td>1</td></tr>\n",
              "\t<tr><td>unsettle       </td><td>negative</td><td>1</td></tr>\n",
              "\t<tr><td>unsophisticated</td><td>negative</td><td>1</td></tr>\n",
              "\t<tr><td>unsuccessful   </td><td>negative</td><td>1</td></tr>\n",
              "\t<tr><td>unyielding     </td><td>negative</td><td>1</td></tr>\n",
              "\t<tr><td>upbraid        </td><td>negative</td><td>1</td></tr>\n",
              "\t<tr><td>useable        </td><td>positive</td><td>1</td></tr>\n",
              "\t<tr><td>vehement       </td><td>negative</td><td>1</td></tr>\n",
              "\t<tr><td>vehemently     </td><td>negative</td><td>1</td></tr>\n",
              "\t<tr><td>vexing         </td><td>negative</td><td>1</td></tr>\n",
              "\t<tr><td>villainous     </td><td>negative</td><td>1</td></tr>\n",
              "\t<tr><td>villains       </td><td>negative</td><td>1</td></tr>\n",
              "\t<tr><td>virulence      </td><td>negative</td><td>1</td></tr>\n",
              "\t<tr><td>volatility     </td><td>negative</td><td>1</td></tr>\n",
              "\t<tr><td>vulnerable     </td><td>negative</td><td>1</td></tr>\n",
              "\t<tr><td>warped         </td><td>negative</td><td>1</td></tr>\n",
              "\t<tr><td>wary           </td><td>negative</td><td>1</td></tr>\n",
              "\t<tr><td>wasteful       </td><td>negative</td><td>1</td></tr>\n",
              "\t<tr><td>weep           </td><td>negative</td><td>1</td></tr>\n",
              "\t<tr><td>whine          </td><td>negative</td><td>1</td></tr>\n",
              "\t<tr><td>winner         </td><td>positive</td><td>1</td></tr>\n",
              "\t<tr><td>winning        </td><td>positive</td><td>1</td></tr>\n",
              "\t<tr><td>wins           </td><td>positive</td><td>1</td></tr>\n",
              "\t<tr><td>worries        </td><td>negative</td><td>1</td></tr>\n",
              "\t<tr><td>wounds         </td><td>negative</td><td>1</td></tr>\n",
              "\t<tr><td>wreck          </td><td>negative</td><td>1</td></tr>\n",
              "</tbody>\n",
              "</table>\n"
            ]
          },
          "metadata": {
            "tags": []
          }
        }
      ]
    },
    {
      "cell_type": "code",
      "metadata": {
        "id": "hXD33e__NbEn",
        "colab_type": "code",
        "colab": {
          "base_uri": "https://localhost:8080/",
          "height": 874
        },
        "outputId": "9b7f0568-6b96-460d-b43b-57c5fddb220e"
      },
      "source": [
        "bing_word_counts %>%\n",
        "  group_by(sentiment) %>%\n",
        "  top_n(10) %>%\n",
        "  ungroup() %>%\n",
        "  mutate(word = reorder(word, n)) %>%\n",
        "  ggplot(aes(word, n, fill = sentiment)) +\n",
        "  geom_col(show.legend = FALSE) +\n",
        "  facet_wrap(~sentiment, scales = \"free_y\") +\n",
        "  labs(y = \"Contribution to sentiment\",\n",
        "       x = NULL) +\n",
        "  coord_flip()"
      ],
      "execution_count": 35,
      "outputs": [
        {
          "output_type": "stream",
          "text": [
            "Selecting by n\n"
          ],
          "name": "stderr"
        },
        {
          "output_type": "display_data",
          "data": {
            "image/png": "[encoded data removed]",
            "text/plain": [
              "plot without title"
            ]
          },
          "metadata": {
            "tags": []
          }
        }
      ]
    },
    {
      "cell_type": "code",
      "metadata": {
        "id": "pwo-cyiENcta",
        "colab_type": "code",
        "colab": {
          "base_uri": "https://localhost:8080/",
          "height": 1000
        },
        "outputId": "31213b5b-cdf6-4c3c-c8c7-a739511955cb"
      },
      "source": [
        "custom_stop_words <- bind_rows(tibble(word = c(\"miss\"), \n",
        "                                          lexicon = c(\"custom\")), \n",
        "                               stop_words)\n",
        "\n",
        "custom_stop_words"
      ],
      "execution_count": 36,
      "outputs": [
        {
          "output_type": "display_data",
          "data": {
            "text/plain": [
              "     word        lexicon\n",
              "1    miss        custom \n",
              "2    a           SMART  \n",
              "3    a's         SMART  \n",
              "4    able        SMART  \n",
              "5    about       SMART  \n",
              "6    above       SMART  \n",
              "7    according   SMART  \n",
              "8    accordingly SMART  \n",
              "9    across      SMART  \n",
              "10   actually    SMART  \n",
              "11   after       SMART  \n",
              "12   afterwards  SMART  \n",
              "13   again       SMART  \n",
              "14   against     SMART  \n",
              "15   ain't       SMART  \n",
              "16   all         SMART  \n",
              "17   allow       SMART  \n",
              "18   allows      SMART  \n",
              "19   almost      SMART  \n",
              "20   alone       SMART  \n",
              "21   along       SMART  \n",
              "22   already     SMART  \n",
              "23   also        SMART  \n",
              "24   although    SMART  \n",
              "25   always      SMART  \n",
              "26   am          SMART  \n",
              "27   among       SMART  \n",
              "28   amongst     SMART  \n",
              "29   an          SMART  \n",
              "30   and         SMART  \n",
              "⋮    ⋮           ⋮      \n",
              "1121 went        onix   \n",
              "1122 were        onix   \n",
              "1123 what        onix   \n",
              "1124 when        onix   \n",
              "1125 where       onix   \n",
              "1126 whether     onix   \n",
              "1127 which       onix   \n",
              "1128 while       onix   \n",
              "1129 who         onix   \n",
              "1130 whole       onix   \n",
              "1131 whose       onix   \n",
              "1132 why         onix   \n",
              "1133 will        onix   \n",
              "1134 with        onix   \n",
              "1135 within      onix   \n",
              "1136 without     onix   \n",
              "1137 work        onix   \n",
              "1138 worked      onix   \n",
              "1139 working     onix   \n",
              "1140 works       onix   \n",
              "1141 would       onix   \n",
              "1142 year        onix   \n",
              "1143 years       onix   \n",
              "1144 yet         onix   \n",
              "1145 you         onix   \n",
              "1146 young       onix   \n",
              "1147 younger     onix   \n",
              "1148 youngest    onix   \n",
              "1149 your        onix   \n",
              "1150 yours       onix   "
            ],
            "text/latex": "A tibble: 1150 × 2\n\\begin{tabular}{r|ll}\n word & lexicon\\\\\n <chr> & <chr>\\\\\n\\hline\n\t miss        & custom\\\\\n\t a           & SMART \\\\\n\t a's         & SMART \\\\\n\t able        & SMART \\\\\n\t about       & SMART \\\\\n\t above       & SMART \\\\\n\t according   & SMART \\\\\n\t accordingly & SMART \\\\\n\t across      & SMART \\\\\n\t actually    & SMART \\\\\n\t after       & SMART \\\\\n\t afterwards  & SMART \\\\\n\t again       & SMART \\\\\n\t against     & SMART \\\\\n\t ain't       & SMART \\\\\n\t all         & SMART \\\\\n\t allow       & SMART \\\\\n\t allows      & SMART \\\\\n\t almost      & SMART \\\\\n\t alone       & SMART \\\\\n\t along       & SMART \\\\\n\t already     & SMART \\\\\n\t also        & SMART \\\\\n\t although    & SMART \\\\\n\t always      & SMART \\\\\n\t am          & SMART \\\\\n\t among       & SMART \\\\\n\t amongst     & SMART \\\\\n\t an          & SMART \\\\\n\t and         & SMART \\\\\n\t ⋮ & ⋮\\\\\n\t went     & onix\\\\\n\t were     & onix\\\\\n\t what     & onix\\\\\n\t when     & onix\\\\\n\t where    & onix\\\\\n\t whether  & onix\\\\\n\t which    & onix\\\\\n\t while    & onix\\\\\n\t who      & onix\\\\\n\t whole    & onix\\\\\n\t whose    & onix\\\\\n\t why      & onix\\\\\n\t will     & onix\\\\\n\t with     & onix\\\\\n\t within   & onix\\\\\n\t without  & onix\\\\\n\t work     & onix\\\\\n\t worked   & onix\\\\\n\t working  & onix\\\\\n\t works    & onix\\\\\n\t would    & onix\\\\\n\t year     & onix\\\\\n\t years    & onix\\\\\n\t yet      & onix\\\\\n\t you      & onix\\\\\n\t young    & onix\\\\\n\t younger  & onix\\\\\n\t youngest & onix\\\\\n\t your     & onix\\\\\n\t yours    & onix\\\\\n\\end{tabular}\n",
            "text/markdown": "\nA tibble: 1150 × 2\n\n| word &lt;chr&gt; | lexicon &lt;chr&gt; |\n|---|---|\n| miss        | custom |\n| a           | SMART  |\n| a's         | SMART  |\n| able        | SMART  |\n| about       | SMART  |\n| above       | SMART  |\n| according   | SMART  |\n| accordingly | SMART  |\n| across      | SMART  |\n| actually    | SMART  |\n| after       | SMART  |\n| afterwards  | SMART  |\n| again       | SMART  |\n| against     | SMART  |\n| ain't       | SMART  |\n| all         | SMART  |\n| allow       | SMART  |\n| allows      | SMART  |\n| almost      | SMART  |\n| alone       | SMART  |\n| along       | SMART  |\n| already     | SMART  |\n| also        | SMART  |\n| although    | SMART  |\n| always      | SMART  |\n| am          | SMART  |\n| among       | SMART  |\n| amongst     | SMART  |\n| an          | SMART  |\n| and         | SMART  |\n| ⋮ | ⋮ |\n| went     | onix |\n| were     | onix |\n| what     | onix |\n| when     | onix |\n| where    | onix |\n| whether  | onix |\n| which    | onix |\n| while    | onix |\n| who      | onix |\n| whole    | onix |\n| whose    | onix |\n| why      | onix |\n| will     | onix |\n| with     | onix |\n| within   | onix |\n| without  | onix |\n| work     | onix |\n| worked   | onix |\n| working  | onix |\n| works    | onix |\n| would    | onix |\n| year     | onix |\n| years    | onix |\n| yet      | onix |\n| you      | onix |\n| young    | onix |\n| younger  | onix |\n| youngest | onix |\n| your     | onix |\n| yours    | onix |\n\n",
            "text/html": [
              "<table>\n",
              "<caption>A tibble: 1150 × 2</caption>\n",
              "<thead>\n",
              "\t<tr><th scope=col>word</th><th scope=col>lexicon</th></tr>\n",
              "\t<tr><th scope=col>&lt;chr&gt;</th><th scope=col>&lt;chr&gt;</th></tr>\n",
              "</thead>\n",
              "<tbody>\n",
              "\t<tr><td>miss       </td><td>custom</td></tr>\n",
              "\t<tr><td>a          </td><td>SMART </td></tr>\n",
              "\t<tr><td>a's        </td><td>SMART </td></tr>\n",
              "\t<tr><td>able       </td><td>SMART </td></tr>\n",
              "\t<tr><td>about      </td><td>SMART </td></tr>\n",
              "\t<tr><td>above      </td><td>SMART </td></tr>\n",
              "\t<tr><td>according  </td><td>SMART </td></tr>\n",
              "\t<tr><td>accordingly</td><td>SMART </td></tr>\n",
              "\t<tr><td>across     </td><td>SMART </td></tr>\n",
              "\t<tr><td>actually   </td><td>SMART </td></tr>\n",
              "\t<tr><td>after      </td><td>SMART </td></tr>\n",
              "\t<tr><td>afterwards </td><td>SMART </td></tr>\n",
              "\t<tr><td>again      </td><td>SMART </td></tr>\n",
              "\t<tr><td>against    </td><td>SMART </td></tr>\n",
              "\t<tr><td>ain't      </td><td>SMART </td></tr>\n",
              "\t<tr><td>all        </td><td>SMART </td></tr>\n",
              "\t<tr><td>allow      </td><td>SMART </td></tr>\n",
              "\t<tr><td>allows     </td><td>SMART </td></tr>\n",
              "\t<tr><td>almost     </td><td>SMART </td></tr>\n",
              "\t<tr><td>alone      </td><td>SMART </td></tr>\n",
              "\t<tr><td>along      </td><td>SMART </td></tr>\n",
              "\t<tr><td>already    </td><td>SMART </td></tr>\n",
              "\t<tr><td>also       </td><td>SMART </td></tr>\n",
              "\t<tr><td>although   </td><td>SMART </td></tr>\n",
              "\t<tr><td>always     </td><td>SMART </td></tr>\n",
              "\t<tr><td>am         </td><td>SMART </td></tr>\n",
              "\t<tr><td>among      </td><td>SMART </td></tr>\n",
              "\t<tr><td>amongst    </td><td>SMART </td></tr>\n",
              "\t<tr><td>an         </td><td>SMART </td></tr>\n",
              "\t<tr><td>and        </td><td>SMART </td></tr>\n",
              "\t<tr><td>⋮</td><td>⋮</td></tr>\n",
              "\t<tr><td>went    </td><td>onix</td></tr>\n",
              "\t<tr><td>were    </td><td>onix</td></tr>\n",
              "\t<tr><td>what    </td><td>onix</td></tr>\n",
              "\t<tr><td>when    </td><td>onix</td></tr>\n",
              "\t<tr><td>where   </td><td>onix</td></tr>\n",
              "\t<tr><td>whether </td><td>onix</td></tr>\n",
              "\t<tr><td>which   </td><td>onix</td></tr>\n",
              "\t<tr><td>while   </td><td>onix</td></tr>\n",
              "\t<tr><td>who     </td><td>onix</td></tr>\n",
              "\t<tr><td>whole   </td><td>onix</td></tr>\n",
              "\t<tr><td>whose   </td><td>onix</td></tr>\n",
              "\t<tr><td>why     </td><td>onix</td></tr>\n",
              "\t<tr><td>will    </td><td>onix</td></tr>\n",
              "\t<tr><td>with    </td><td>onix</td></tr>\n",
              "\t<tr><td>within  </td><td>onix</td></tr>\n",
              "\t<tr><td>without </td><td>onix</td></tr>\n",
              "\t<tr><td>work    </td><td>onix</td></tr>\n",
              "\t<tr><td>worked  </td><td>onix</td></tr>\n",
              "\t<tr><td>working </td><td>onix</td></tr>\n",
              "\t<tr><td>works   </td><td>onix</td></tr>\n",
              "\t<tr><td>would   </td><td>onix</td></tr>\n",
              "\t<tr><td>year    </td><td>onix</td></tr>\n",
              "\t<tr><td>years   </td><td>onix</td></tr>\n",
              "\t<tr><td>yet     </td><td>onix</td></tr>\n",
              "\t<tr><td>you     </td><td>onix</td></tr>\n",
              "\t<tr><td>young   </td><td>onix</td></tr>\n",
              "\t<tr><td>younger </td><td>onix</td></tr>\n",
              "\t<tr><td>youngest</td><td>onix</td></tr>\n",
              "\t<tr><td>your    </td><td>onix</td></tr>\n",
              "\t<tr><td>yours   </td><td>onix</td></tr>\n",
              "</tbody>\n",
              "</table>\n"
            ]
          },
          "metadata": {
            "tags": []
          }
        }
      ]
    },
    {
      "cell_type": "code",
      "metadata": {
        "id": "4YhB5BqbNenn",
        "colab_type": "code",
        "colab": {
          "base_uri": "https://localhost:8080/",
          "height": 925
        },
        "outputId": "cbcf1178-8f29-4680-ca7a-5771f854372f"
      },
      "source": [
        "install.packages(\"wordcloud\")\n",
        "library(wordcloud)\n",
        "\n",
        "tidy_books %>%\n",
        "  anti_join(stop_words) %>%\n",
        "  count(word) %>%\n",
        "  with(wordcloud(word, n, max.words = 100))"
      ],
      "execution_count": 39,
      "outputs": [
        {
          "output_type": "stream",
          "text": [
            "Installing package into ‘/usr/local/lib/R/site-library’\n",
            "(as ‘lib’ is unspecified)\n",
            "Loading required package: RColorBrewer\n",
            "Joining, by = \"word\"\n"
          ],
          "name": "stderr"
        },
        {
          "output_type": "display_data",
          "data": {
            "image/png": "[encoded data removed]",
            "text/plain": [
              "plot without title"
            ]
          },
          "metadata": {
            "tags": []
          }
        }
      ]
    },
    {
      "cell_type": "code",
      "metadata": {
        "id": "rjGThF-fNgC_",
        "colab_type": "code",
        "colab": {
          "base_uri": "https://localhost:8080/",
          "height": 993
        },
        "outputId": "e5ec2903-5cb2-47fe-b427-4e2906538652"
      },
      "source": [
        "library(reshape2)\n",
        "\n",
        "tidy_books %>%\n",
        "  inner_join(get_sentiments(\"bing\")) %>%\n",
        "  count(word, sentiment, sort = TRUE) %>%\n",
        "  acast(word ~ sentiment, value.var = \"n\", fill = 0) %>%\n",
        "  comparison.cloud(colors = c(\"gray20\", \"gray80\"),\n",
        "                   max.words = 100)"
      ],
      "execution_count": 40,
      "outputs": [
        {
          "output_type": "stream",
          "text": [
            "\n",
            "Attaching package: ‘reshape2’\n",
            "\n",
            "The following object is masked from ‘package:tidyr’:\n",
            "\n",
            "    smiths\n",
            "\n",
            "Joining, by = \"word\"\n"
          ],
          "name": "stderr"
        },
        {
          "output_type": "display_data",
          "data": {
            "image/png": "[encoded data removed]",
            "text/plain": [
              "plot without title"
            ]
          },
          "metadata": {
            "tags": []
          }
        }
      ]
    },
    {
      "cell_type": "code",
      "metadata": {
        "id": "YhTAbUY2Nh9E",
        "colab_type": "code",
        "colab": {}
      },
      "source": [
        "PandP_sentences <- tibble(text = prideprejudice) %>% \n",
        "  unnest_tokens(sentence, text, token = \"sentences\")"
      ],
      "execution_count": 0,
      "outputs": []
    },
    {
      "cell_type": "code",
      "metadata": {
        "id": "k1BvV48lNnUm",
        "colab_type": "code",
        "colab": {
          "base_uri": "https://localhost:8080/",
          "height": 34
        },
        "outputId": "6d99931e-cc7a-43f2-943f-a1024ef519f0"
      },
      "source": [
        "PandP_sentences$sentence[2]"
      ],
      "execution_count": 42,
      "outputs": [
        {
          "output_type": "display_data",
          "data": {
            "text/plain": [
              "[1] \"however little known the feelings or views of such a man may be on his first entering a neighbourhood, this truth is so well fixed in the minds of the surrounding families, that he is considered the rightful property of some one or other of their daughters.\""
            ],
            "text/latex": "'however little known the feelings or views of such a man may be on his first entering a neighbourhood, this truth is so well fixed in the minds of the surrounding families, that he is considered the rightful property of some one or other of their daughters.'",
            "text/markdown": "'however little known the feelings or views of such a man may be on his first entering a neighbourhood, this truth is so well fixed in the minds of the surrounding families, that he is considered the rightful property of some one or other of their daughters.'",
            "text/html": [
              "'however little known the feelings or views of such a man may be on his first entering a neighbourhood, this truth is so well fixed in the minds of the surrounding families, that he is considered the rightful property of some one or other of their daughters.'"
            ]
          },
          "metadata": {
            "tags": []
          }
        }
      ]
    },
    {
      "cell_type": "code",
      "metadata": {
        "id": "EXJIJ83lNpWD",
        "colab_type": "code",
        "colab": {
          "base_uri": "https://localhost:8080/",
          "height": 204
        },
        "outputId": "b0ba1ca0-0965-4559-b0ec-f9dbf0299c22"
      },
      "source": [
        "austen_chapters <- austen_books() %>%\n",
        "  group_by(book) %>%\n",
        "  unnest_tokens(chapter, text, token = \"regex\", \n",
        "                pattern = \"Chapter|CHAPTER [\\\\dIVXLC]\") %>%\n",
        "  ungroup()\n",
        "\n",
        "austen_chapters %>% \n",
        "  group_by(book) %>% \n",
        "  summarise(chapters = n())"
      ],
      "execution_count": 43,
      "outputs": [
        {
          "output_type": "display_data",
          "data": {
            "text/plain": [
              "  book                chapters\n",
              "1 Sense & Sensibility 51      \n",
              "2 Pride & Prejudice   62      \n",
              "3 Mansfield Park      49      \n",
              "4 Emma                56      \n",
              "5 Northanger Abbey    32      \n",
              "6 Persuasion          25      "
            ],
            "text/latex": "A tibble: 6 × 2\n\\begin{tabular}{r|ll}\n book & chapters\\\\\n <fct> & <int>\\\\\n\\hline\n\t Sense \\& Sensibility & 51\\\\\n\t Pride \\& Prejudice   & 62\\\\\n\t Mansfield Park      & 49\\\\\n\t Emma                & 56\\\\\n\t Northanger Abbey    & 32\\\\\n\t Persuasion          & 25\\\\\n\\end{tabular}\n",
            "text/markdown": "\nA tibble: 6 × 2\n\n| book &lt;fct&gt; | chapters &lt;int&gt; |\n|---|---|\n| Sense &amp; Sensibility | 51 |\n| Pride &amp; Prejudice   | 62 |\n| Mansfield Park      | 49 |\n| Emma                | 56 |\n| Northanger Abbey    | 32 |\n| Persuasion          | 25 |\n\n",
            "text/html": [
              "<table>\n",
              "<caption>A tibble: 6 × 2</caption>\n",
              "<thead>\n",
              "\t<tr><th scope=col>book</th><th scope=col>chapters</th></tr>\n",
              "\t<tr><th scope=col>&lt;fct&gt;</th><th scope=col>&lt;int&gt;</th></tr>\n",
              "</thead>\n",
              "<tbody>\n",
              "\t<tr><td>Sense &amp; Sensibility</td><td>51</td></tr>\n",
              "\t<tr><td><span style=white-space:pre-wrap>Pride &amp; Prejudice  </span></td><td>62</td></tr>\n",
              "\t<tr><td>Mansfield Park     </td><td>49</td></tr>\n",
              "\t<tr><td>Emma               </td><td>56</td></tr>\n",
              "\t<tr><td>Northanger Abbey   </td><td>32</td></tr>\n",
              "\t<tr><td>Persuasion         </td><td>25</td></tr>\n",
              "</tbody>\n",
              "</table>\n"
            ]
          },
          "metadata": {
            "tags": []
          }
        }
      ]
    },
    {
      "cell_type": "code",
      "metadata": {
        "id": "VRtTD8-RNrkJ",
        "colab_type": "code",
        "colab": {
          "base_uri": "https://localhost:8080/",
          "height": 238
        },
        "outputId": "c3eb5fce-44e5-47bf-e9ce-98b2fcde8c5b"
      },
      "source": [
        "bingnegative <- get_sentiments(\"bing\") %>% \n",
        "  filter(sentiment == \"negative\")\n",
        "\n",
        "wordcounts <- tidy_books %>%\n",
        "  group_by(book, chapter) %>%\n",
        "  summarize(words = n())\n",
        "\n",
        "tidy_books %>%\n",
        "  semi_join(bingnegative) %>%\n",
        "  group_by(book, chapter) %>%\n",
        "  summarize(negativewords = n()) %>%\n",
        "  left_join(wordcounts, by = c(\"book\", \"chapter\")) %>%\n",
        "  mutate(ratio = negativewords/words) %>%\n",
        "  filter(chapter != 0) %>%\n",
        "  top_n(1) %>%\n",
        "  ungroup()"
      ],
      "execution_count": 44,
      "outputs": [
        {
          "output_type": "stream",
          "text": [
            "Joining, by = \"word\"\n",
            "Selecting by ratio\n"
          ],
          "name": "stderr"
        },
        {
          "output_type": "display_data",
          "data": {
            "text/plain": [
              "  book                chapter negativewords words ratio     \n",
              "1 Sense & Sensibility 43      161           3405  0.04728341\n",
              "2 Pride & Prejudice   34      111           2104  0.05275665\n",
              "3 Mansfield Park      46      173           3685  0.04694708\n",
              "4 Emma                15      151           3340  0.04520958\n",
              "5 Northanger Abbey    21      149           2982  0.04996647\n",
              "6 Persuasion           4       62           1807  0.03431101"
            ],
            "text/latex": "A tibble: 6 × 5\n\\begin{tabular}{r|lllll}\n book & chapter & negativewords & words & ratio\\\\\n <fct> & <int> & <int> & <int> & <dbl>\\\\\n\\hline\n\t Sense \\& Sensibility & 43 & 161 & 3405 & 0.04728341\\\\\n\t Pride \\& Prejudice   & 34 & 111 & 2104 & 0.05275665\\\\\n\t Mansfield Park      & 46 & 173 & 3685 & 0.04694708\\\\\n\t Emma                & 15 & 151 & 3340 & 0.04520958\\\\\n\t Northanger Abbey    & 21 & 149 & 2982 & 0.04996647\\\\\n\t Persuasion          &  4 &  62 & 1807 & 0.03431101\\\\\n\\end{tabular}\n",
            "text/markdown": "\nA tibble: 6 × 5\n\n| book &lt;fct&gt; | chapter &lt;int&gt; | negativewords &lt;int&gt; | words &lt;int&gt; | ratio &lt;dbl&gt; |\n|---|---|---|---|---|\n| Sense &amp; Sensibility | 43 | 161 | 3405 | 0.04728341 |\n| Pride &amp; Prejudice   | 34 | 111 | 2104 | 0.05275665 |\n| Mansfield Park      | 46 | 173 | 3685 | 0.04694708 |\n| Emma                | 15 | 151 | 3340 | 0.04520958 |\n| Northanger Abbey    | 21 | 149 | 2982 | 0.04996647 |\n| Persuasion          |  4 |  62 | 1807 | 0.03431101 |\n\n",
            "text/html": [
              "<table>\n",
              "<caption>A tibble: 6 × 5</caption>\n",
              "<thead>\n",
              "\t<tr><th scope=col>book</th><th scope=col>chapter</th><th scope=col>negativewords</th><th scope=col>words</th><th scope=col>ratio</th></tr>\n",
              "\t<tr><th scope=col>&lt;fct&gt;</th><th scope=col>&lt;int&gt;</th><th scope=col>&lt;int&gt;</th><th scope=col>&lt;int&gt;</th><th scope=col>&lt;dbl&gt;</th></tr>\n",
              "</thead>\n",
              "<tbody>\n",
              "\t<tr><td>Sense &amp; Sensibility</td><td>43</td><td>161</td><td>3405</td><td>0.04728341</td></tr>\n",
              "\t<tr><td><span style=white-space:pre-wrap>Pride &amp; Prejudice  </span></td><td>34</td><td>111</td><td>2104</td><td>0.05275665</td></tr>\n",
              "\t<tr><td>Mansfield Park     </td><td>46</td><td>173</td><td>3685</td><td>0.04694708</td></tr>\n",
              "\t<tr><td>Emma               </td><td>15</td><td>151</td><td>3340</td><td>0.04520958</td></tr>\n",
              "\t<tr><td>Northanger Abbey   </td><td>21</td><td>149</td><td>2982</td><td>0.04996647</td></tr>\n",
              "\t<tr><td>Persuasion         </td><td> 4</td><td> 62</td><td>1807</td><td>0.03431101</td></tr>\n",
              "</tbody>\n",
              "</table>\n"
            ]
          },
          "metadata": {
            "tags": []
          }
        }
      ]
    },
    {
      "cell_type": "code",
      "metadata": {
        "id": "6wLiaPEcNto8",
        "colab_type": "code",
        "colab": {}
      },
      "source": [
        ""
      ],
      "execution_count": 0,
      "outputs": []
    }
  ]
}